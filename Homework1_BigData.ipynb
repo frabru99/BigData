{
  "nbformat": 4,
  "nbformat_minor": 0,
  "metadata": {
    "colab": {
      "provenance": []
    },
    "kernelspec": {
      "name": "python3",
      "display_name": "Python 3"
    },
    "language_info": {
      "name": "python"
    }
  },
  "cells": [
    {
      "cell_type": "markdown",
      "source": [
        "# Homework 1 - Francesco Brunello (M63001655), Antonio Boccarossa (M63001643)\n",
        "\n",
        "---\n",
        "\n"
      ],
      "metadata": {
        "id": "GOKsRLiOcd26"
      }
    },
    {
      "cell_type": "markdown",
      "source": [
        "# Introduction to Clinical Trials\n",
        "Clinical trials are scientific studies conducted on human subjects to evaluate\n",
        "the safety and effectiveness of medical treatments, drugs, devices, or procedures.\n",
        "Each trial follows a defined protocol and may span several phases (Phase I, II,\n",
        "III, IV), sometimes involving thousands of participants across multiple countries.\n",
        "\n",
        "# The Dataset\n",
        "The dataset used in this exercise comes from Dimensions.ai, a platform that\n",
        "aggregates data on global scientific research. Each row in the dataset represents\n",
        "a clinical trial; informations about the columns can be found in the provided\n",
        "legend.csv file.\n",
        "Some columns contain nested or structured data, such as lists of conditions,\n",
        "organizations, or locations.\n",
        "\n",
        "# Task\n",
        "Perform at least five analytics using PySpark on the provided clinical trials\n",
        "dataset. The results must be compiled and presented in a structured PDF\n",
        "report. For each analysis, the report should include the following components:\n",
        "\n",
        "\n",
        "*   Objective: The goal of the analysis.\n",
        "*   Description: A brief description of the methodology used.\n",
        "*   Code: The PySpark code used to perform the analysis.\n",
        "\n",
        "Include analyses of varying complexity, from basic aggregations to more\n",
        "complex operations."
      ],
      "metadata": {
        "id": "00JYedWdfhQF"
      }
    },
    {
      "cell_type": "markdown",
      "source": [
        "### Dependencies\n",
        "*Installing pyspark dependencies.*"
      ],
      "metadata": {
        "id": "kU8pN3UFiQ6d"
      }
    },
    {
      "cell_type": "code",
      "source": [
        "# Run below commands in google colab\n",
        "# install Java8\n",
        "!apt-get install openjdk-8-jdk-headless -qq > /dev/null\n",
        "# download spark3.0.0\n",
        "!wget -q http://apache.osuosl.org/spark/spark-3.5.5/spark-3.5.5-bin-hadoop3.tgz\n",
        "# unzip it\n",
        "!tar xf spark-3.5.5-bin-hadoop3.tgz\n",
        "# install findspark\n",
        "!pip install -q findspark"
      ],
      "metadata": {
        "id": "UYYEBLuOiOzB"
      },
      "execution_count": 15,
      "outputs": []
    },
    {
      "cell_type": "markdown",
      "source": [
        "### Spark Context and Session\n",
        "*Creating Spark Context and Session in order to use pyspark.sql utilities*"
      ],
      "metadata": {
        "id": "JxWWaBMvivH7"
      }
    },
    {
      "cell_type": "code",
      "source": [
        "import os\n",
        "os.environ[\"JAVA_HOME\"] = \"/usr/lib/jvm/java-8-openjdk-amd64\"\n",
        "os.environ[\"SPARK_HOME\"] = \"/content/spark-3.5.5-bin-hadoop3\""
      ],
      "metadata": {
        "id": "NIgvYIr3iPos"
      },
      "execution_count": 16,
      "outputs": []
    },
    {
      "cell_type": "code",
      "source": [
        "# Verify the Spark version running on the virtual cluster\n",
        "import pyspark as ps\n",
        "from pyspark.context import SparkContext\n",
        "sc = SparkContext.getOrCreate()\n",
        "\n",
        "assert  \"3.\" in sc.version, \"Verify that the cluster Spark's version is 3.x\""
      ],
      "metadata": {
        "id": "6RdAEzeciskW"
      },
      "execution_count": 17,
      "outputs": []
    },
    {
      "cell_type": "code",
      "source": [
        "from pyspark.sql import SparkSession\n",
        "spark = SparkSession(sc)\n",
        "print(spark)"
      ],
      "metadata": {
        "colab": {
          "base_uri": "https://localhost:8080/"
        },
        "id": "-UNcgpk4i47W",
        "outputId": "4602c8e6-dd1b-4aed-b758-67571c2d72ea"
      },
      "execution_count": 18,
      "outputs": [
        {
          "output_type": "stream",
          "name": "stdout",
          "text": [
            "<pyspark.sql.session.SparkSession object at 0x7fd35a736e50>\n"
          ]
        }
      ]
    },
    {
      "cell_type": "markdown",
      "source": [
        "### Reading the Dataset"
      ],
      "metadata": {
        "id": "Soxz3xyZTNn4"
      }
    },
    {
      "cell_type": "markdown",
      "source": [
        "*The given dataset is composed by various data entries related to clinical trials and it's composed by 15999 rows and 38 columns.*"
      ],
      "metadata": {
        "id": "UYAit81chtrb"
      }
    },
    {
      "cell_type": "code",
      "source": [
        "import pandas as pd\n",
        "df = pd.read_excel(\"dimensions_clinicalTrials.xlsx\")\n",
        "clinicalDS = spark.createDataFrame(df)\n",
        "# printSchema shows the names and types of columns\n",
        "clinicalDS.printSchema()"
      ],
      "metadata": {
        "colab": {
          "base_uri": "https://localhost:8080/"
        },
        "id": "eFHrkChbjTCd",
        "outputId": "de3ca574-7247-4b98-9a67-753bb5f79e12"
      },
      "execution_count": 19,
      "outputs": [
        {
          "output_type": "stream",
          "name": "stdout",
          "text": [
            "root\n",
            " |-- Rank: long (nullable = true)\n",
            " |-- Trial ID: string (nullable = true)\n",
            " |-- Title: string (nullable = true)\n",
            " |-- Brief title: string (nullable = true)\n",
            " |-- Acronym: string (nullable = true)\n",
            " |-- Abstract: string (nullable = true)\n",
            " |-- Start date: timestamp (nullable = true)\n",
            " |-- Start Year: double (nullable = true)\n",
            " |-- End Date: timestamp (nullable = true)\n",
            " |-- Completion Year: double (nullable = true)\n",
            " |-- Phase: string (nullable = true)\n",
            " |-- Study Type: string (nullable = true)\n",
            " |-- Study Design: string (nullable = true)\n",
            " |-- Conditions: string (nullable = true)\n",
            " |-- Recruitment Status: string (nullable = true)\n",
            " |-- Number of Participants: double (nullable = true)\n",
            " |-- Intervention: string (nullable = true)\n",
            " |-- Gender: string (nullable = true)\n",
            " |-- Age: string (nullable = true)\n",
            " |-- Registry: string (nullable = true)\n",
            " |-- Investigators/Contacts: string (nullable = true)\n",
            " |-- Sponsors/Collaborators: string (nullable = true)\n",
            " |-- City of Sponsor/Collaborator: string (nullable = true)\n",
            " |-- State of Sponsor/Collaborator: string (nullable = true)\n",
            " |-- Country of Sponsor/Collaborator: string (nullable = true)\n",
            " |-- Collaborating Funders: string (nullable = true)\n",
            " |-- Funder Group: string (nullable = true)\n",
            " |-- Funder Country: string (nullable = true)\n",
            " |-- Source Linkout: string (nullable = true)\n",
            " |-- Altmetric Attention Score: double (nullable = true)\n",
            " |-- Dimensions URL: string (nullable = true)\n",
            " |-- Fields of Research (ANZSRC 2020): string (nullable = true)\n",
            " |-- RCDC Categories: string (nullable = true)\n",
            " |-- HRCS HC Categories: string (nullable = true)\n",
            " |-- HRCS RAC Categories: string (nullable = true)\n",
            " |-- Cancer Types: string (nullable = true)\n",
            " |-- CSO Categories: string (nullable = true)\n",
            " |-- AHC: string (nullable = true)\n",
            "\n"
          ]
        }
      ]
    },
    {
      "cell_type": "markdown",
      "source": [
        "### **Objective N1: Find the number of studies started per year.**\n",
        "\n",
        "\n"
      ],
      "metadata": {
        "id": "D-amqPJkjr0S"
      }
    },
    {
      "cell_type": "markdown",
      "source": [
        "In order to find the ***The number of studies started per year*** we grouped the rows by the column 'Start Year', counted the different studies identified by Trial ID for each year and sorted the result by the count."
      ],
      "metadata": {
        "id": "FULUoP3XTiUc"
      }
    },
    {
      "cell_type": "code",
      "source": [
        "from pyspark.sql.functions import count , desc\n",
        "\n",
        "clinicalDS \\\n",
        ".select('Trial ID', 'Start Year') \\\n",
        ".distinct() \\\n",
        ".groupBy('Start Year') \\\n",
        ".agg(count('`Trial ID`') \\\n",
        ".alias('Number of Studies')) \\\n",
        ".orderBy(desc('Number of Studies')) \\\n",
        ".show(40)"
      ],
      "metadata": {
        "colab": {
          "base_uri": "https://localhost:8080/"
        },
        "id": "og_tyf98luBW",
        "outputId": "6acc0b71-1ae4-4458-f434-2d4e1dc39a3f"
      },
      "execution_count": 20,
      "outputs": [
        {
          "output_type": "stream",
          "name": "stdout",
          "text": [
            "+----------+-----------------+\n",
            "|Start Year|Number of Studies|\n",
            "+----------+-----------------+\n",
            "|    2021.0|              722|\n",
            "|    2020.0|              662|\n",
            "|    2019.0|              640|\n",
            "|    2018.0|              589|\n",
            "|    2022.0|              585|\n",
            "|    2017.0|              548|\n",
            "|    2015.0|              457|\n",
            "|    2016.0|              446|\n",
            "|    2023.0|              399|\n",
            "|    2014.0|              397|\n",
            "|    2013.0|              370|\n",
            "|    2012.0|              367|\n",
            "|    2011.0|              325|\n",
            "|    2010.0|              295|\n",
            "|    2009.0|              287|\n",
            "|    2008.0|              287|\n",
            "|    2007.0|              226|\n",
            "|    2006.0|              200|\n",
            "|    2005.0|              130|\n",
            "|    2004.0|              101|\n",
            "|    2003.0|               56|\n",
            "|    2001.0|               45|\n",
            "|    2002.0|               40|\n",
            "|    2024.0|               38|\n",
            "|    2000.0|               35|\n",
            "|       NaN|               25|\n",
            "|    1998.0|               19|\n",
            "|    1999.0|               18|\n",
            "|    1997.0|               11|\n",
            "|    1995.0|                8|\n",
            "|    1996.0|                8|\n",
            "|    1994.0|                7|\n",
            "|    1993.0|                4|\n",
            "|    1992.0|                3|\n",
            "|    1988.0|                2|\n",
            "|    2025.0|                2|\n",
            "|    1987.0|                1|\n",
            "|    1989.0|                1|\n",
            "|    1991.0|                1|\n",
            "+----------+-----------------+\n",
            "\n"
          ]
        }
      ]
    },
    {
      "cell_type": "markdown",
      "source": [
        "### **Objective N2: Find the Top 10 most frequent medical conditions in all clinical trials**"
      ],
      "metadata": {
        "id": "O-1F5ut8v3Ss"
      }
    },
    {
      "cell_type": "markdown",
      "source": [
        "In order to find ***The Top 10 most frequent medical conditions in all clinical trials*** we grouped the rows by the 'Conditions' field (exploding the list generated by the split function on the \";\" and \",\" characters in order to consider all the effective values of Conditions field), counted and sorted all of them to find the results, filtering NaN values.\n",
        "\n",
        "\n",
        "\n",
        "\n"
      ],
      "metadata": {
        "id": "loZkvCcuU7xZ"
      }
    },
    {
      "cell_type": "code",
      "source": [
        "clinicalDS \\\n",
        ".select('Trial ID', 'Conditions') \\\n",
        ".distinct() \\\n",
        ".withColumn('Conditions', explode(split('Conditions', r\"[;,]+\"))) \\\n",
        ".withColumn('trimmedCondition', trim(col('Conditions'))) \\\n",
        ".filter(col('trimmedCondition') != 'NaN') \\\n",
        ".groupBy('trimmedCondition') \\\n",
        ".agg(count('trimmedCondition').alias('Entries')) \\\n",
        ".orderBy(desc('Entries')) \\\n",
        ".show(10, truncate=False)"
      ],
      "metadata": {
        "colab": {
          "base_uri": "https://localhost:8080/"
        },
        "id": "HGco32AKw4aX",
        "outputId": "ab55994d-9b39-4aba-d27d-15ea4a66756c"
      },
      "execution_count": 21,
      "outputs": [
        {
          "output_type": "stream",
          "name": "stdout",
          "text": [
            "+-----------------------+-------+\n",
            "|trimmedCondition       |Entries|\n",
            "+-----------------------+-------+\n",
            "|Breast Cancer          |158    |\n",
            "|Carcinoma              |97     |\n",
            "|Lymphoma               |87     |\n",
            "|Multiple Myeloma       |83     |\n",
            "|Coronary Artery Disease|71     |\n",
            "|Heart Failure          |67     |\n",
            "|Lung Cancer            |63     |\n",
            "|Leukemia               |62     |\n",
            "|Ovarian Cancer         |60     |\n",
            "|Colorectal Cancer      |56     |\n",
            "+-----------------------+-------+\n",
            "only showing top 10 rows\n",
            "\n"
          ]
        }
      ]
    },
    {
      "cell_type": "markdown",
      "source": [
        "### **Objective N3: Find the Top 10 Funder Countries that financied the most relevant studies in terms of total Altmetric Attention Score.**"
      ],
      "metadata": {
        "id": "xVbOvlhE3mXB"
      }
    },
    {
      "cell_type": "markdown",
      "source": [
        "In order to find ***The Top 10 Funder Countries that financied the most relevant studies in terms of total Altmetric Attention Score*** we selected all the Countries (exploding the list generated by the split function on the \";\" and \",\" characters in order to consider all the effective values of Funder Countries) and Altmetric Attention Score, filtering the NaN values, grouping by Countries and ordering the resultant rows by the total amount of the Total Altmetric Attention Score per Country.\n"
      ],
      "metadata": {
        "id": "OHRdVtQpWL5M"
      }
    },
    {
      "cell_type": "code",
      "source": [
        "from pyspark.sql.functions import explode, split, trim, sum, col\n",
        "\n",
        "clinicalDS \\\n",
        ".select('Trial ID', explode(split('Funder Country', r\"[;,]+\")).alias('Countries'), 'Altmetric Attention Score') \\\n",
        ".distinct() \\\n",
        ".withColumn('Countries', trim(col(\"Countries\"))) \\\n",
        ".filter(col('Altmetric Attention Score') != \"NaN\")\\\n",
        ".filter(col('Countries') != \"NaN\")\\\n",
        ".groupBy('Countries')\\\n",
        ".agg(sum('Altmetric Attention Score').alias('Total Altmetric Attention Score'))\\\n",
        ".orderBy(desc('Total Altmetric Attention Score')) \\\n",
        ".show(10)"
      ],
      "metadata": {
        "colab": {
          "base_uri": "https://localhost:8080/"
        },
        "id": "Pes4GjlzsqI7",
        "outputId": "14eb6a12-1c40-4444-b4c2-e007783461d0"
      },
      "execution_count": 22,
      "outputs": [
        {
          "output_type": "stream",
          "name": "stdout",
          "text": [
            "+--------------+-------------------------------+\n",
            "|     Countries|Total Altmetric Attention Score|\n",
            "+--------------+-------------------------------+\n",
            "| United States|                        90348.0|\n",
            "|         Japan|                        16558.0|\n",
            "|       Germany|                        12597.0|\n",
            "|United Kingdom|                         4549.0|\n",
            "|        France|                         2488.0|\n",
            "|   Switzerland|                         1641.0|\n",
            "|         Italy|                         1418.0|\n",
            "|       Belgium|                          625.0|\n",
            "|        Canada|                          449.0|\n",
            "|   Netherlands|                          167.0|\n",
            "+--------------+-------------------------------+\n",
            "only showing top 10 rows\n",
            "\n"
          ]
        }
      ]
    },
    {
      "cell_type": "markdown",
      "source": [
        "### **Objective N4: Find the Top 5 research fields with most clinic trials.**"
      ],
      "metadata": {
        "id": "SHg572syhk8J"
      }
    },
    {
      "cell_type": "markdown",
      "source": [
        "In order to find ***The Top 5 fields of the research with most clinic trials*** we selected all the Fields of Research (exploding the list generated by the split function on the \";\" and \",\" characters in order to consider all the effective values of Reasearch Fields) filtering the NaN values. Also, we grouped on the Research Field in order to count them."
      ],
      "metadata": {
        "id": "bdQeGqC-YI4O"
      }
    },
    {
      "cell_type": "code",
      "source": [
        "clinicalDS\\\n",
        ".select('Trial ID', explode(split('Fields of Research (ANZSRC 2020)', r\"[;,]+\")).alias('Research Field')) \\\n",
        ".distinct() \\\n",
        ".withColumn('Research Field', trim(col(\"Research Field\"))) \\\n",
        ".filter(col('Research Field') != \"NaN\") \\\n",
        ".groupBy('Research Field') \\\n",
        ".agg(count(col('Research Field')).alias('Count of trials')) \\\n",
        ".orderBy(desc('Count of trials')) \\\n",
        ".show(5, truncate=False)"
      ],
      "metadata": {
        "colab": {
          "base_uri": "https://localhost:8080/"
        },
        "id": "tH9GsOL90AXa",
        "outputId": "a2e526cf-16c8-49e8-b576-20a66b82ab00"
      },
      "execution_count": 23,
      "outputs": [
        {
          "output_type": "stream",
          "name": "stdout",
          "text": [
            "+--------------------------------------------+---------------+\n",
            "|Research Field                              |Count of trials|\n",
            "+--------------------------------------------+---------------+\n",
            "|32 Biomedical and Clinical Sciences         |7860           |\n",
            "|3202 Clinical Sciences                      |4144           |\n",
            "|3211 Oncology and Carcinogenesis            |2492           |\n",
            "|42 Health Sciences                          |835            |\n",
            "|3201 Cardiovascular Medicine and Haematology|750            |\n",
            "+--------------------------------------------+---------------+\n",
            "only showing top 5 rows\n",
            "\n"
          ]
        }
      ]
    },
    {
      "cell_type": "markdown",
      "source": [
        "### **Objective N5: Find the longest Clinical Trials in Phase 3 in term of expected or actual years of completion.**\n",
        "\n",
        "\n"
      ],
      "metadata": {
        "id": "vwAAbRgcijVN"
      }
    },
    {
      "cell_type": "markdown",
      "source": [
        "In order to find ***The longest Phase 3 of Clinical Trials in term of expected or actual years*** we created a new column called 'Years' filling it with the difference between 'Completion Year' and 'Start Year' (previously filtered to avoid NaN values). In addition, we selected the appropriate fields, filtering the output on 'Phase' field and ordering all by 'Years' field."
      ],
      "metadata": {
        "id": "uzJHnfLWalzs"
      }
    },
    {
      "cell_type": "code",
      "source": [
        "clinicalDS \\\n",
        ".filter(col('Completion Year') != 'NaN') \\\n",
        ".filter(col('Start Year') != 'NaN') \\\n",
        ".withColumn('Years', col('Completion Year') - col('Start Year')) \\\n",
        ".select('Trial ID', 'Abstract', 'Years', 'Completion Year', 'Start Year') \\\n",
        ".distinct() \\\n",
        ".where(col('Phase') == 'Phase 3') \\\n",
        ".orderBy(desc('Years')) \\\n",
        ".show(10)"
      ],
      "metadata": {
        "colab": {
          "base_uri": "https://localhost:8080/"
        },
        "id": "FnyZcZqG2s6V",
        "outputId": "7795d6af-8d09-47f9-fc3a-289f0d61ac65"
      },
      "execution_count": 24,
      "outputs": [
        {
          "output_type": "stream",
          "name": "stdout",
          "text": [
            "+-----------+--------------------+-----+---------------+----------+\n",
            "|   Trial ID|            Abstract|Years|Completion Year|Start Year|\n",
            "+-----------+--------------------+-----+---------------+----------+\n",
            "|NCT01704716|This is a randomi...| 24.0|         2026.0|    2002.0|\n",
            "|NCT00070564|RATIONALE: Drugs ...| 24.0|         2027.0|    2003.0|\n",
            "|NCT00005044|RATIONALE: Hormon...| 22.0|         2022.0|    2000.0|\n",
            "|NCT00433420|RATIONALE: Drugs ...| 22.0|         2025.0|    2003.0|\n",
            "|NCT00066703|RATIONALE: Estrog...| 22.0|         2025.0|    2003.0|\n",
            "|NCT00006455|RATIONALE: Drugs ...| 21.0|         2020.0|    1999.0|\n",
            "|NCT01064635|RATIONALE: Estrog...| 21.0|         2026.0|    2005.0|\n",
            "|NCT02201992|This randomized p...| 21.0|         2036.0|    2015.0|\n",
            "|NCT01357772|The aim of the st...| 20.0|         2028.0|    2008.0|\n",
            "|NCT00326456|The purpose of th...| 20.0|         2023.0|    2003.0|\n",
            "+-----------+--------------------+-----+---------------+----------+\n",
            "only showing top 10 rows\n",
            "\n"
          ]
        }
      ]
    },
    {
      "cell_type": "markdown",
      "source": [
        "### **Objective N6: Find the most frequent HRCS HC Categories of study per gender (All, Female, Male), studied between 2005 and 2021 ordered by the sum of the Altmetric Attention Score of the related clinical trials.**\n",
        "\n",
        "\n"
      ],
      "metadata": {
        "id": "qViR9dKbjNJ5"
      }
    },
    {
      "cell_type": "markdown",
      "source": [
        "In order to find ***The most frequent HRCS HC Categories of study per gender (All, Female, Male), studied between 2005 and 2021 ordered by the sum of the Altmetric Attention Score of the related clinical trials*** we created a Window object in order to partitition the final output by the Gender besed on the rank assigned by the row_number function. This function, associates a \"rank\" value based on the Total Attention Score assumed by that istance.\n",
        "\n",
        "In the query, we selected the HRCS HC Categories (exploding the list generated by the split function on the \";\" and \",\" characters in order to consider all the effective values of HRCS HC Categories field), filtering the data by years and removing the NaN values. Also, we grouped the data by Gender and Categories, in order to execute the sum of the AASs values and find the first ranked row for each gender."
      ],
      "metadata": {
        "id": "FgBouG5siuwi"
      }
    },
    {
      "cell_type": "code",
      "source": [
        "from pyspark.sql.window import Window\n",
        "from pyspark.sql.functions import row_number\n",
        "\n",
        "windowSpec = Window.partitionBy(\"Gender\").orderBy(desc(\"Total Attention Score\")) #Partizioniamo in base al genere e ordiniamo in base al Total Attention Score\n",
        "\n",
        "results = clinicalDS.select('Trial ID', explode(split('HRCS HC Categories', r'[;,]+')).alias('Categories'), 'Gender', 'Altmetric Attention Score') \\\n",
        ".distinct() \\\n",
        ".withColumn('Categories', trim(col('Categories'))) \\\n",
        ".filter(col('Categories')!= 'NaN') \\\n",
        ".filter(col('Gender') != 'NaN') \\\n",
        ".filter(col('Altmetric Attention Score') != 'NaN') \\\n",
        ".filter(col('Start Year')> 2004) \\\n",
        ".filter(col('Completion Year')< 2022) \\\n",
        ".groupBy('Gender', 'Categories' ) \\\n",
        ".agg(sum('Altmetric Attention Score').alias('Total Attention Score')) \\\n",
        ".orderBy(desc('Total Attention Score')) \\\n",
        ".withColumn(\"rank\", row_number().over(windowSpec)) \\\n",
        ".filter(col(\"rank\") == 1) \\\n",
        ".drop(\"rank\") \\\n",
        ".show()\n"
      ],
      "metadata": {
        "colab": {
          "base_uri": "https://localhost:8080/"
        },
        "id": "8X_IZemc6_kJ",
        "outputId": "9bec5b5c-512e-49d6-dba6-37ce69a6afd4"
      },
      "execution_count": 25,
      "outputs": [
        {
          "output_type": "stream",
          "name": "stdout",
          "text": [
            "+------+----------+---------------------+\n",
            "|Gender|Categories|Total Attention Score|\n",
            "+------+----------+---------------------+\n",
            "|   All|    Cancer|              11539.0|\n",
            "|Female|    Cancer|                780.0|\n",
            "|  Male|    Cancer|                141.0|\n",
            "+------+----------+---------------------+\n",
            "\n"
          ]
        }
      ]
    },
    {
      "cell_type": "markdown",
      "source": [
        "### **Objective N7: Find the Top 10 AHC involved in Mental Health Category clinical trials with more than 100 participants.**\n"
      ],
      "metadata": {
        "id": "jIwLgs3bmtIc"
      }
    },
    {
      "cell_type": "markdown",
      "source": [
        "In order to find ***The Top 10 AHC involved in Mental Health category clinical trials with more then 100 participants*** we selected the HRCS HS Categories (exploding the list generated by the split function on the \";\" and \",\" characters in order to consider all the effective values of HRCS HS Categories) filterintg NaN values and finding only the rows with 'Mental Health' category. We also filtered the data by the Number of Partecipants, grouped by AHC values and ordered by Number of trails in order to show the right output."
      ],
      "metadata": {
        "id": "awhRN3fpcA2I"
      }
    },
    {
      "cell_type": "code",
      "source": [
        "clinicalDS.select('Trial ID', 'AHC', explode(split('HRCS HC Categories', r'[;,]+')).alias('HRCS HC Categories Splitted') ) \\\n",
        ".distinct() \\\n",
        ".withColumn('HRCS HC Categories Splitted', trim(col('HRCS HC Categories Splitted'))) \\\n",
        ".filter(col('HRCS HC Categories Splitted') != 'NaN') \\\n",
        ".filter(col('HRCS HC Categories Splitted') == 'Mental health') \\\n",
        ".filter(col('Number of Participants') > 100) \\\n",
        ".groupBy('AHC')\\\n",
        ".agg(count('AHC').alias('Number of trials')) \\\n",
        ".orderBy(desc('Number of trials')) \\\n",
        ".show(10, truncate=False)"
      ],
      "metadata": {
        "colab": {
          "base_uri": "https://localhost:8080/"
        },
        "id": "Vq41lB_799p7",
        "outputId": "469e1097-cec5-45bd-800c-077964bbd46a"
      },
      "execution_count": 26,
      "outputs": [
        {
          "output_type": "stream",
          "name": "stdout",
          "text": [
            "+---------------------+----------------+\n",
            "|AHC                  |Number of trials|\n",
            "+---------------------+----------------+\n",
            "|IRCCS_CAGRANDA       |8               |\n",
            "|AOU_SENESE           |7               |\n",
            "|AOU_CITTADELLASCIENZA|6               |\n",
            "|AOUSSN_GMARTINO      |6               |\n",
            "|AOU_CAREGGI          |5               |\n",
            "|IRCCS_BURLOGAROFOLO  |5               |\n",
            "|AOU_VERONA           |4               |\n",
            "|AOU_RIUNITIFOGGIA    |3               |\n",
            "|IRCCS_SANMARTINO     |3               |\n",
            "|AOU_GONZAGA          |3               |\n",
            "+---------------------+----------------+\n",
            "only showing top 10 rows\n",
            "\n"
          ]
        }
      ]
    },
    {
      "cell_type": "markdown",
      "source": [
        "### **Objective N8: Find the most used Intervention Models (in Study Design field) and the most used couple Intervention Models/Intervention Method (in Intervention field) in cancer related clinical trails**"
      ],
      "metadata": {
        "id": "ia3q55xLp9ln"
      }
    },
    {
      "cell_type": "markdown",
      "source": [
        "In order to find ***The most used Intervention Models (in Study Design field) and the most used couple Intervention Models/Intervention Method (in Intervention field) in cancer related clinical trails*** we made two separate queries.\n",
        "In the first one, we selected the Study Design categories (exploding the list generated by the split function on the \";\" and \",\" characters in order to consider all the effective values of Study Design) filterintg NaN values and finding only the rows with 'Intervention' value. We also grouped the data by the new field Design Phases and ordered the data by the Number of Intevention in order to show the correct output.\n",
        "\n",
        "In the second one, we selected the Study Design categories (exploding the list generated by the split function on the \";\" and \",\" characters in order to consider all the effective values of Study Design) and Intevention in the same way. In addittion, thanks to a window object we ranked the couples Intervention Models/Intervention previously and filtered only the first ranked entries.\n"
      ],
      "metadata": {
        "id": "i3j7ugdUgWE-"
      }
    },
    {
      "cell_type": "code",
      "source": [
        "# First Query\n",
        "print(\"FIRST QUERY\")\n",
        "clinicalDS.select('Trial ID', explode(split('Study Design', r'[;,]+')).alias('Design Phases'))\\\n",
        ".distinct() \\\n",
        ".withColumn('Design Phases', trim(col('Design Phases')))\\\n",
        ".filter(col('Design Phases').startswith('Intervention'))\\\n",
        ".filter(col('Cancer Types') != 'NaN') \\\n",
        ".groupBy('Design Phases')\\\n",
        ".agg(count('Design Phases').alias('Number of Intervention'))\\\n",
        ".orderBy(desc('Number of Intervention'))\\\n",
        ".show(6, truncate=False)\n",
        "\n",
        "\n",
        "#Second Query\n",
        "print(\"SECOND QUERY\")\n",
        "windowSpec = Window.partitionBy('Design Phases').orderBy(desc('Number of Intervention'))\n",
        "\n",
        "clinicalDS.select('Trial ID', explode(split('Study Design', r'[;,]+')).alias('Design Phases'), explode(split('Intervention', r'[;,]+')).alias('Intervention Method'))\\\n",
        ".distinct() \\\n",
        ".withColumn('Design Phases', trim(col('Design Phases')))\\\n",
        ".withColumn('Intervention Method', trim(col('Intervention Method')))\\\n",
        ".filter(col('Design Phases').startswith('Intervention'))\\\n",
        ".filter(col('Cancer Types') != 'NaN') \\\n",
        ".filter(col('Intervention Method') != 'NaN') \\\n",
        ".groupBy('Design Phases', 'Intervention Method')\\\n",
        ".agg(count('Design Phases').alias('Number of Intervention'))\\\n",
        ".withColumn(\"rank\", row_number().over(windowSpec)) \\\n",
        ".filter(col(\"rank\") == 1) \\\n",
        ".drop(\"rank\") \\\n",
        ".orderBy(desc('Number of Intervention'))\\\n",
        ".show(truncate=False)"
      ],
      "metadata": {
        "colab": {
          "base_uri": "https://localhost:8080/"
        },
        "id": "rBLpXsvgBhdE",
        "outputId": "583eb107-b84d-4e06-d8a6-2b1cbf54b2fa"
      },
      "execution_count": 27,
      "outputs": [
        {
          "output_type": "stream",
          "name": "stdout",
          "text": [
            "FIRST QUERY\n",
            "+-------------------------------------------+----------------------+\n",
            "|Design Phases                              |Number of Intervention|\n",
            "+-------------------------------------------+----------------------+\n",
            "|Intervention Model: Parallel Assignment    |1440                  |\n",
            "|Intervention Model: Single Group Assignment|646                   |\n",
            "|Intervention Model: Sequential Assignment  |98                    |\n",
            "|Intervention Model: Crossover Assignment   |37                    |\n",
            "|Intervention Model: Factorial Assignment   |18                    |\n",
            "|Intervention Model: Cohort Study           |2                     |\n",
            "+-------------------------------------------+----------------------+\n",
            "only showing top 6 rows\n",
            "\n",
            "SECOND QUERY\n",
            "+-------------------------------------------+-------------------------------------+----------------------+\n",
            "|Design Phases                              |Intervention Method                  |Number of Intervention|\n",
            "+-------------------------------------------+-------------------------------------+----------------------+\n",
            "|Intervention Model: Parallel Assignment    |Placebo (Drug)                       |176                   |\n",
            "|Intervention Model: Single Group Assignment|Cyclophosphamide (Drug)              |14                    |\n",
            "|Intervention Model: Sequential Assignment  |Doxorubicin (Drug)                   |6                     |\n",
            "|Intervention Model: Crossover Assignment   |Placebo (Drug)                       |3                     |\n",
            "|Intervention Model: Factorial Assignment   |Dexamethasone (Drug)                 |2                     |\n",
            "|Intervention Model: Cohort Study           |Substance INN(s): Temozolomide (Drug)|1                     |\n",
            "+-------------------------------------------+-------------------------------------+----------------------+\n",
            "\n"
          ]
        }
      ]
    },
    {
      "cell_type": "markdown",
      "source": [
        "### **Objective N9: Found the most frequent Investigator per Study Type started between 2005 and 2025**\n",
        "\n",
        "\n"
      ],
      "metadata": {
        "id": "vUMbBELnhc4W"
      }
    },
    {
      "cell_type": "markdown",
      "source": [
        "\n",
        "\n",
        "In order to find ***The most frequent Investigator per Study Type started between 2005 and 2025*** we grouped on Study Type and Investigators on the filtered fields in order to count how many times an Investigator took part in a specific Study Type, per every Study Type. In order to got the right output, we used also in this case a Window in order to filter the output data.\n",
        "\n",
        "\n",
        "\n"
      ],
      "metadata": {
        "id": "h4AnopkiiZqZ"
      }
    },
    {
      "cell_type": "code",
      "source": [
        "\n",
        "windowSpec=Window.partitionBy('Study Type').orderBy(desc('Number of Studies'))\n",
        "\n",
        "clinicalDS.select('Trial ID', 'Study Type', explode(split(trim(col('Investigators/Contacts')), r\"[;,]+\")).alias('Investigators'), 'Start Year') \\\n",
        ".withColumn('Investigators', trim(col('Investigators'))) \\\n",
        ".distinct() \\\n",
        ".filter(col('Start Year') > 2004) \\\n",
        ".filter(col('Start Year') < 2026) \\\n",
        ".filter(col('Start Year') != 'NaN') \\\n",
        ".filter(col('Investigators') != 'NaN') \\\n",
        ".groupBy('Study Type', 'Investigators') \\\n",
        ".agg(count('Study Type').alias('Number of Studies')) \\\n",
        ".withColumn(\"rank\", row_number().over(windowSpec)) \\\n",
        ".filter(col(\"rank\") == 1) \\\n",
        ".drop(\"rank\") \\\n",
        ".orderBy(desc('Number of Studies')) \\\n",
        ".show(truncate=False)\n"
      ],
      "metadata": {
        "colab": {
          "base_uri": "https://localhost:8080/"
        },
        "id": "H-I6zdIriaHs",
        "outputId": "6a9b7bad-0424-4eea-d90d-f445a5dbf209"
      },
      "execution_count": 28,
      "outputs": [
        {
          "output_type": "stream",
          "name": "stdout",
          "text": [
            "+-------------------+------------------+-----------------+\n",
            "|Study Type         |Investigators     |Number of Studies|\n",
            "+-------------------+------------------+-----------------+\n",
            "|Interventional     |ABBVIE INC        |57               |\n",
            "|Observational      |Davide Chiumello  |12               |\n",
            "|Non-interventional |Claudio Franceschi|2                |\n",
            "|Active surveillance|Leone Roberto     |1                |\n",
            "|CCT                |Carolyn Hoppe     |1                |\n",
            "|Other              |Marco  Scioscia   |1                |\n",
            "|RCT                |Soccoh Alex Kabia |1                |\n",
            "+-------------------+------------------+-----------------+\n",
            "\n"
          ]
        }
      ]
    },
    {
      "cell_type": "markdown",
      "source": [
        "### **Objective N10: Find the Top 5 Sponsor States that are most active in Breast Cancer (Condition) clinical trials started from 2010 until nowdays.**"
      ],
      "metadata": {
        "id": "_bqLUln_oZfj"
      }
    },
    {
      "cell_type": "markdown",
      "source": [
        "In order to find ***The Top 5 Sponsor States that are most active in Breast Cancer (Condition) clinical trials from 2010 until nowdays*** we grouped the data (previously exploded, splitted and filtered) on 'States' and counted the Trials IDs of clinical trials that specifies Breast Cancer in 'Condition' field and. We also ordered the output by the Clinical Trials count in Breast Cancer.\n"
      ],
      "metadata": {
        "id": "l12biE-8s-1G"
      }
    },
    {
      "cell_type": "code",
      "source": [
        "from pyspark.sql.functions import year, current_date\n",
        "\n",
        "clinicalDS.select('Trial ID', explode(split(col('State of Sponsor/Collaborator'), r\"[;,]+\")).alias('States'), 'Start Year',\n",
        "                  explode(split( col('Conditions'), r\"[;,]+\" )).alias('Conditions')) \\\n",
        "                  .distinct() \\\n",
        "                  .withColumn('States', trim(col('States'))) \\\n",
        "                  .withColumn('Conditions', trim(col('Conditions'))) \\\n",
        "                  .filter(col('States')!=\"\") \\\n",
        "                  .filter(col('States')!=\" \") \\\n",
        "                  .filter(col('Conditions') == 'Breast Cancer') \\\n",
        "                  .filter(col('Start Year') > 2010 ) \\\n",
        "                  .filter(col('Start Year') < year(current_date()+1)) \\\n",
        "                  .groupBy('States') \\\n",
        "                  .agg(count('Trial ID').alias('Clinical Trials count in Breast Cancer')) \\\n",
        "                  .orderBy(desc('Clinical Trials count in Breast Cancer')) \\\n",
        "                  .show(5, truncate=False)\n"
      ],
      "metadata": {
        "colab": {
          "base_uri": "https://localhost:8080/"
        },
        "id": "gwTLNz6Es_Ty",
        "outputId": "430b6486-273c-4de5-daf8-e2550303d549"
      },
      "execution_count": 29,
      "outputs": [
        {
          "output_type": "stream",
          "name": "stdout",
          "text": [
            "+----------+--------------------------------------+\n",
            "|States    |Clinical Trials count in Breast Cancer|\n",
            "+----------+--------------------------------------+\n",
            "|California|52                                    |\n",
            "|New York  |39                                    |\n",
            "|Texas     |30                                    |\n",
            "|Florida   |30                                    |\n",
            "|New Jersey|29                                    |\n",
            "+----------+--------------------------------------+\n",
            "only showing top 5 rows\n",
            "\n"
          ]
        }
      ]
    },
    {
      "cell_type": "markdown",
      "metadata": {
        "id": "JzafEB4ZhofO"
      },
      "source": [
        "### **Objective N11: Average number of participants per study title**\n",
        "\n",
        "In order to find The **Average number of participants per study title** we selected the **Title** category and then calculate the average of the **Number of Participants** on that field.\n"
      ]
    },
    {
      "cell_type": "code",
      "execution_count": 30,
      "metadata": {
        "colab": {
          "base_uri": "https://localhost:8080/"
        },
        "id": "wwjx_gifgWeb",
        "outputId": "99b71556-c965-47e2-a5ff-eff491b7e414"
      },
      "outputs": [
        {
          "output_type": "stream",
          "name": "stdout",
          "text": [
            "+--------------------+---------------------------+\n",
            "|               Title|avg(Number of Participants)|\n",
            "+--------------------+---------------------------+\n",
            "|The epidemiology,...|                  2400000.0|\n",
            "|ACCESS template p...|                  1000000.0|\n",
            "|National Database...|                   285600.0|\n",
            "|Computerized Regi...|                   120000.0|\n",
            "|Effect of Pharmac...|                   115000.0|\n",
            "|CRICKET: Critical...|                   105000.0|\n",
            "|Digital Strategie...|                    82800.0|\n",
            "|RICALOR - Registr...|                    63692.0|\n",
            "|Analysis of In-ho...|                    60000.0|\n",
            "|What is the Best ...|                    60000.0|\n",
            "|Cohort Event Moni...|                    60000.0|\n",
            "|HPV as Primary Sc...|                    60000.0|\n",
            "|International Ran...|                    53142.0|\n",
            "|PRospective Evalu...|                    52156.0|\n",
            "|DianaWeb: Before ...|                    50000.0|\n",
            "|A Multicenter, Cr...|                    39480.0|\n",
            "|Evaluation and Im...|                    39000.0|\n",
            "|Observational Pos...|                    35921.0|\n",
            "|Antibiotic Prophy...|                    35000.0|\n",
            "|ONTARGET ONgoing ...|                    31546.0|\n",
            "+--------------------+---------------------------+\n",
            "only showing top 20 rows\n",
            "\n"
          ]
        }
      ],
      "source": [
        "clinicalDS.select(\"Trial ID\", \"Title\", \"Number of Participants\") \\\n",
        ".distinct() \\\n",
        ".filter(col(\"Number of Participants\")!=\"NaN\") \\\n",
        ".groupBy(\"Title\") \\\n",
        ".avg(\"Number of Participants\") \\\n",
        ".orderBy(desc(\"avg(Number of Participants)\")) \\\n",
        ".show()"
      ]
    },
    {
      "cell_type": "markdown",
      "metadata": {
        "id": "pJk0c57NtPc-"
      },
      "source": [
        "### **Objective N12: Countries with the highest average number of participants per study**\n",
        "\n",
        "In order to find The **Countries with the highest average number of participants per study** we selected the **Country of Sponsor/Collaborator, Trial ID and Number of Participants** Categories (exploding the Country of Sponsor/Collaborator list generated by the split function on the \";\" character in order to consider all the effective values) filterintg NaN values on **Number of Participants** field and calculating the average on it. Note: we used the *trim* function in order to remove the spaces between each word."
      ]
    },
    {
      "cell_type": "code",
      "execution_count": 56,
      "metadata": {
        "colab": {
          "base_uri": "https://localhost:8080/"
        },
        "id": "gYpbpIijtTz3",
        "outputId": "f2b99154-6313-4000-b7d4-f05e041f8417"
      },
      "outputs": [
        {
          "output_type": "stream",
          "name": "stdout",
          "text": [
            "+--------------+---------------+---------------------------+\n",
            "|      Trial ID|      Countries|avg(Number of Participants)|\n",
            "+--------------+---------------+---------------------------+\n",
            "|ISRCTN91495258|       Portugal|                  2400000.0|\n",
            "|ISRCTN91495258|         France|                  2400000.0|\n",
            "|ISRCTN91495258|         Sweden|                  2400000.0|\n",
            "|ISRCTN91495258|        Ireland|                  2400000.0|\n",
            "|ISRCTN91495258|       Slovenia|                  2400000.0|\n",
            "|ISRCTN91495258|        Hungary|                  2400000.0|\n",
            "|ISRCTN91495258| United Kingdom|                  2400000.0|\n",
            "|ISRCTN91495258|          Italy|                  2400000.0|\n",
            "|ISRCTN91495258|      Lithuania|                  2400000.0|\n",
            "|ISRCTN91495258|         Turkey|                  2400000.0|\n",
            "|ISRCTN91495258|    Netherlands|                  2400000.0|\n",
            "|ISRCTN91495258|         Latvia|                  2400000.0|\n",
            "|ISRCTN91495258|        Austria|                  2400000.0|\n",
            "|ISRCTN91495258|        Germany|                  2400000.0|\n",
            "|ISRCTN91495258|        Iceland|                  2400000.0|\n",
            "|ISRCTN91495258|          Malta|                  2400000.0|\n",
            "|ISRCTN91495258|          Spain|                  2400000.0|\n",
            "|    EUPAS39361|        Germany|                  1000000.0|\n",
            "|    EUPAS39361|          Italy|                  1000000.0|\n",
            "|    EUPAS39361|        Denmark|                  1000000.0|\n",
            "|    EUPAS39361|         France|                  1000000.0|\n",
            "|    EUPAS39361|          Spain|                  1000000.0|\n",
            "|    EUPAS39361|    Netherlands|                  1000000.0|\n",
            "|    EUPAS39361| United Kingdom|                  1000000.0|\n",
            "|   NCT05925699|  United States|                   285600.0|\n",
            "|   NCT05925699|          Italy|                   285600.0|\n",
            "|   NCT02832245|        Ireland|                   120000.0|\n",
            "|   NCT02832245|         Israel|                   120000.0|\n",
            "|   NCT02832245|North Macedonia|                   120000.0|\n",
            "|   NCT02832245|        Morocco|                   120000.0|\n",
            "+--------------+---------------+---------------------------+\n",
            "only showing top 30 rows\n",
            "\n"
          ]
        }
      ],
      "source": [
        "clinicalDS.select(explode(split(\"Country of Sponsor/Collaborator\",\";\")).alias(\"Countries\"),\"Trial ID\", \"Number of Participants\") \\\n",
        ".distinct() \\\n",
        ".withColumn(\"Countries\", trim(col(\"Countries\"))) \\\n",
        ".filter((col(\"Countries\").isNotNull()) & (col(\"Countries\") != \"\")) \\\n",
        ".groupBy(\"Trial ID\", \"Countries\") \\\n",
        ".avg(\"Number of Participants\") \\\n",
        ".filter(col(\"avg(Number of Participants)\") != \"NaN\") \\\n",
        ".orderBy(desc(\"avg(Number of Participants)\")) \\\n",
        ".show(30)"
      ]
    },
    {
      "cell_type": "markdown",
      "metadata": {
        "id": "UTuNXbY7h0yu"
      },
      "source": [
        "### **Objective N13: Find the 10 most popular cities of sponsor/collaborator per study type**\n",
        "\n",
        "In order to find The **10 most popular cities of sponsor/collaborator per study type** we selected the **City of Sponsor/Collaborator, Trial ID and Study Type** Categories (exploding the City of Sponsor/Collaborator list generated by the split function on the \";\" character in order to consider all the effective values) grouping by \"Study Type\" and **Collaborator_Cities** fields and counting the number of trials for each city."
      ]
    },
    {
      "cell_type": "code",
      "execution_count": 55,
      "metadata": {
        "colab": {
          "base_uri": "https://localhost:8080/"
        },
        "id": "lsZdj0rll37f",
        "outputId": "0dd7446b-8bf5-4460-cd4f-aee757c6fa7f"
      },
      "outputs": [
        {
          "output_type": "stream",
          "name": "stdout",
          "text": [
            "+--------------+-------------------+------------+\n",
            "|    Study Type|Collaborator_Cities|Numero_Prove|\n",
            "+--------------+-------------------+------------+\n",
            "|Interventional|              Milan|        2856|\n",
            "|Interventional|               Rome|        2176|\n",
            "|Interventional|          Barcelona|        2025|\n",
            "|Interventional|             Madrid|        1920|\n",
            "|Interventional|             London|        1765|\n",
            "|Interventional|           New York|        1577|\n",
            "|Interventional|            Bologna|        1571|\n",
            "|Interventional|              Paris|        1449|\n",
            "|Interventional|             Naples|        1196|\n",
            "|Interventional|            Houston|        1115|\n",
            "+--------------+-------------------+------------+\n",
            "only showing top 10 rows\n",
            "\n"
          ]
        }
      ],
      "source": [
        "clinicalDS.select(explode(split(\"City of Sponsor/Collaborator\", r\"[;,]+\")).alias(\"Collaborator_Cities\"), \"Study Type\", \"Trial ID\") \\\n",
        ".distinct() \\\n",
        ".withColumn(\"Collaborator_Cities\", trim(col(\"Collaborator_Cities\"))) \\\n",
        ".filter((col(\"Collaborator_Cities\").isNotNull()) & (col(\"Collaborator_Cities\") != \"\")) \\\n",
        ".groupBy(\"Study Type\", \"Collaborator_Cities\") \\\n",
        ".agg(count(clinicalDS[\"Trial ID\"]).alias(\"Numero_Prove\")) \\\n",
        ".orderBy(desc(\"Numero_Prove\")) \\\n",
        ".show(10)"
      ]
    },
    {
      "cell_type": "markdown",
      "metadata": {
        "id": "g7cj3qPyi0l0"
      },
      "source": [
        "### **Objective N14: Find the clinical trial with the highest Altmetric Attention Score that started after July 10, 2013**\n",
        "\n",
        "In order to find The **the clinical trial with the highest Altmetric Attention Score that started after July 10, 2013** we selected the **Trial ID and Altmetric Attention Score** Categories, ordering by \"Altmetric Attention Score\" field and choosing two conditions for the *select* clause, according to the query."
      ]
    },
    {
      "cell_type": "code",
      "execution_count": 33,
      "metadata": {
        "colab": {
          "base_uri": "https://localhost:8080/"
        },
        "id": "X0Ae9OoQtZd5",
        "outputId": "99f2e6ef-bb2e-491d-e9c4-0fb092236725"
      },
      "outputs": [
        {
          "output_type": "stream",
          "name": "stdout",
          "text": [
            "+-----------+-------------------------+\n",
            "|   Trial ID|Altmetric Attention Score|\n",
            "+-----------+-------------------------+\n",
            "|NCT04575597|                   1703.0|\n",
            "+-----------+-------------------------+\n",
            "\n"
          ]
        }
      ],
      "source": [
        "clinicalDS.select(\"Trial ID\", \"Altmetric Attention Score\") \\\n",
        ".orderBy(desc(clinicalDS[\"Altmetric Attention Score\"])) \\\n",
        ".where((clinicalDS[\"Start Date\"] > \"2013-07-10\") & (clinicalDS[\"Altmetric Attention Score\"]!=\"NaN\")) \\\n",
        ".limit(1).show()"
      ]
    },
    {
      "cell_type": "markdown",
      "metadata": {
        "id": "Y_xZEP2blWAv"
      },
      "source": [
        "### **Objective N15: Find the 5 most relevant (based on number of participants) trials per Cancer Types**\n",
        "\n",
        "In order to find The **the 5 most relevant (based on number of participants) trials per Cancer Types** we selected the **Cancer Types, Trial ID and Number of Participants** Categories (exploding the Cancer Types list generated by the split function on the \";\" character in order to consider all the effective values), ordering by \"Number of Participants\" field and filtering on \"Cancer Types\" and \"Number of Participants\" field to show the output properly."
      ]
    },
    {
      "cell_type": "code",
      "execution_count": 34,
      "metadata": {
        "id": "1LSr8NtbvYCV",
        "colab": {
          "base_uri": "https://localhost:8080/"
        },
        "outputId": "90ff74d0-e53b-4028-d690-f2a0210d1ef1"
      },
      "outputs": [
        {
          "output_type": "stream",
          "name": "stdout",
          "text": [
            "+--------------------+-----------+----------------------+\n",
            "|         Tipi_Cancro|   Trial ID|Number of Participants|\n",
            "+--------------------+-----------+----------------------+\n",
            "|Not Site-Specific...|NCT05339841|               82800.0|\n",
            "|Not Site-Specific...|NCT02038491|               63692.0|\n",
            "|       Breast Cancer|NCT04590560|               60000.0|\n",
            "|     Cervical Cancer|NCT01837693|               60000.0|\n",
            "|Genital System, F...|NCT01837693|               60000.0|\n",
            "+--------------------+-----------+----------------------+\n",
            "\n"
          ]
        }
      ],
      "source": [
        "clinicalDS.select(explode(split(\"Cancer Types\", \"; \")).alias(\"Tipi_Cancro\"), \"Trial ID\", \"Number of Participants\") \\\n",
        ".distinct() \\\n",
        ".withColumn(\"Tipi_Cancro\", trim(col(\"Tipi_Cancro\"))) \\\n",
        ".filter((col(\"Tipi_Cancro\").isNotNull()) & (col(\"Tipi_Cancro\") != \"\") & (col(\"Tipi_Cancro\") != \"NaN\")) \\\n",
        ".filter(col(\"Number of Participants\")!=\"NaN\") \\\n",
        ".orderBy(desc(clinicalDS[\"Number of Participants\"])).limit(5).show()"
      ]
    },
    {
      "cell_type": "markdown",
      "metadata": {
        "id": "QNGl0nEAmJ3w"
      },
      "source": [
        "### **Objective N16: Retrieve the start date and the completion year of the top 10 clinical trials that involve the \"AOUSSN_CAGLIARI\" AHC and with the highest Altmetric Attention Score per condition**\n",
        "\n",
        "In order to find The **start date, the completion year and studied conditions of the top 10 clinical trials that involve the \"AOUSSN_CAGLIARI\" AHC and with the highest Altmetric Attention Score** we selected the **Trial ID, Start Date, Completion Year, Conditions, AHC and Altmetric Attention Score** Categories, ordering by \"Altmetric Attention Score\" field, filtering on the same field and filtering on the \"AHC\" field to show the output properly."
      ]
    },
    {
      "cell_type": "code",
      "execution_count": 47,
      "metadata": {
        "id": "Fw4S1iZc2RYY",
        "colab": {
          "base_uri": "https://localhost:8080/"
        },
        "outputId": "1b952e29-a1b2-4d93-f046-1eb73a0ad89a"
      },
      "outputs": [
        {
          "output_type": "stream",
          "name": "stdout",
          "text": [
            "+---------------------------------------------------+-----------+-------------------+---------------+---------------+------------------------------+\n",
            "|Conditions                                         |Trial ID   |Start Date         |Completion Year|AHC            |max(Altmetric Attention Score)|\n",
            "+---------------------------------------------------+-----------+-------------------+---------------+---------------+------------------------------+\n",
            "|KRAS p                                             |NCT04303780|2020-06-04 00:00:00|2026.0         |AOUSSN_CAGLIARI|788.0                         |\n",
            "|G12c Mutated /Advanced Metastatic NSCLC            |NCT04303780|2020-06-04 00:00:00|2026.0         |AOUSSN_CAGLIARI|788.0                         |\n",
            "|Crohn's Disease                                    |NCT03466411|2018-04-13 00:00:00|2030.0         |AOUSSN_CAGLIARI|693.0                         |\n",
            "|Carcinoma                                          |NCT04763408|2021-04-09 00:00:00|2028.0         |AOUSSN_CAGLIARI|299.0                         |\n",
            "|Hepatocellular                                     |NCT04763408|2021-04-09 00:00:00|2028.0         |AOUSSN_CAGLIARI|299.0                         |\n",
            "|Locally Advanced or Metastatic and Unresectable HCC|NCT03764293|2019-06-10 00:00:00|2023.0         |AOUSSN_CAGLIARI|275.0                         |\n",
            "|Arthritis                                          |NCT04929210|2021-08-30 00:00:00|2026.0         |AOUSSN_CAGLIARI|131.0                         |\n",
            "|Psoriatic                                          |NCT04929210|2021-08-30 00:00:00|2026.0         |AOUSSN_CAGLIARI|131.0                         |\n",
            "|Atopic Dermatitis                                  |NCT03607422|2018-07-27 00:00:00|2025.0         |AOUSSN_CAGLIARI|38.0                          |\n",
            "|Liver Cirrhosis                                    |NCT02308111|2014-12-26 00:00:00|2021.0         |AOUSSN_CAGLIARI|27.0                          |\n",
            "+---------------------------------------------------+-----------+-------------------+---------------+---------------+------------------------------+\n",
            "only showing top 10 rows\n",
            "\n"
          ]
        }
      ],
      "source": [
        "from pyspark.sql.functions import max\n",
        "\n",
        "clinicalDS.select(\"Trial ID\",\"Start Date\", \"Completion Year\", explode(split(\"Conditions\",r\"[;,]+\")).alias(\"Conditions\"),\"AHC\", \"Altmetric Attention Score\") \\\n",
        ".distinct() \\\n",
        ".withColumn(\"Conditions\", trim(col(\"Conditions\"))) \\\n",
        ".filter(col(\"Altmetric Attention Score\") != \"NaN\") \\\n",
        ".where(clinicalDS[\"AHC\"]==\"AOUSSN_CAGLIARI\") \\\n",
        ".groupBy(\"Conditions\",\"Trial ID\",\"Start Date\", \"Completion Year\", \"AHC\") \\\n",
        ".agg(max(col(\"Altmetric Attention Score\"))) \\\n",
        ".orderBy(desc(\"max(Altmetric Attention Score)\")) \\\n",
        ".show(10, truncate=False)"
      ]
    },
    {
      "cell_type": "markdown",
      "metadata": {
        "id": "k5baEKkimzk3"
      },
      "source": [
        "### **Objective N17: Find all the clinical trials started after 2022 with at most 250 participants per Country**\n",
        "\n",
        "In order to find The **Find all the clinical trials started after 2022 with at most 250 participants and group by conditions** we added two columns: one for the minimum age for each trial and the second for the maximum age and we specified a regular expression to retrieve the numeric values properly. After that, we added one more column to show the differences between each maximum and minimum and finally we selected **Trial ID and diff_age** for the output, ordering on the \"diff_age\" field."
      ]
    },
    {
      "cell_type": "code",
      "execution_count": null,
      "metadata": {
        "colab": {
          "base_uri": "https://localhost:8080/"
        },
        "id": "ZgDH_41u9Vnb",
        "outputId": "a43a9f12-a110-4d54-b4c9-85a85dfca364"
      },
      "outputs": [
        {
          "output_type": "stream",
          "name": "stdout",
          "text": [
            "+--------------+------------+\n",
            "|         Paesi|Numero_Prove|\n",
            "+--------------+------------+\n",
            "|         Italy|         222|\n",
            "| United States|         169|\n",
            "|         Spain|          74|\n",
            "|       Germany|          71|\n",
            "|        France|          65|\n",
            "|United Kingdom|          61|\n",
            "|        Canada|          55|\n",
            "|     Australia|          53|\n",
            "|        Poland|          52|\n",
            "|       Belgium|          48|\n",
            "|   Netherlands|          41|\n",
            "|        Israel|          38|\n",
            "|   Switzerland|          35|\n",
            "|   South Korea|          35|\n",
            "|         Japan|          35|\n",
            "|       Austria|          33|\n",
            "|       Czechia|          32|\n",
            "|       Hungary|          32|\n",
            "|        Taiwan|          31|\n",
            "|        Brazil|          30|\n",
            "+--------------+------------+\n",
            "only showing top 20 rows\n",
            "\n"
          ]
        }
      ],
      "source": [
        "clinicalDS.select(\"Trial ID\",\"Start Year\", explode(split(\"Country of Sponsor/Collaborator\",r\"[;,]+\")).alias(\"Paesi\")) \\\n",
        ".distinct() \\\n",
        ".withColumn(\"Paesi\", trim(col(\"Paesi\"))) \\\n",
        ".where((clinicalDS[\"Number of Participants\"]>=250) & (clinicalDS[\"Start Year\"]>\"2022\")) \\\n",
        ".filter(col(\"Paesi\") != \"\") \\\n",
        ".groupBy(\"Paesi\") \\\n",
        ".agg(count(\"Trial ID\").alias(\"Numero_Prove\")) \\\n",
        ".orderBy(desc(\"Numero_Prove\")) \\\n",
        ".show()"
      ]
    },
    {
      "cell_type": "markdown",
      "metadata": {
        "id": "s6Sjl-_WnwcY"
      },
      "source": [
        "### **Objective N18: Find the most popular (by number of trials) Field of Research per country with at least 500 participants**\n",
        "\n",
        "In order to find The **most popular (by number of trials) Field of Research per country with at least 500 participants**, we created a window in order to create a partition on the \"Country of Sponsor/Collaborator\" (ordering by the number of trials) and we added one column in order to explode the **Fields of Research** field properly and one column for the **Country of Sponsor/Collaborator** (the process for this column is exactly the same we did for the first one). After that, we added one **where** clause on the \"Number of Participants\", we filtered on the same field to display the output properly. Finally grouped by the two newly columns and we counted (and ordered) on the number of trials."
      ]
    },
    {
      "cell_type": "code",
      "execution_count": 53,
      "metadata": {
        "id": "uez7BlD0LrLV",
        "colab": {
          "base_uri": "https://localhost:8080/"
        },
        "outputId": "7dba908c-64a0-43ed-e4fd-79107efa0fa4"
      },
      "outputs": [
        {
          "output_type": "stream",
          "name": "stdout",
          "text": [
            "+--------------+-----------------------------------+------------+\n",
            "|Paesi         |Campi_Ricerca                      |Numero_Prove|\n",
            "+--------------+-----------------------------------+------------+\n",
            "|Italy         |32 Biomedical and Clinical Sciences|1921        |\n",
            "|United States |32 Biomedical and Clinical Sciences|1816        |\n",
            "|Germany       |32 Biomedical and Clinical Sciences|970         |\n",
            "|Spain         |32 Biomedical and Clinical Sciences|963         |\n",
            "|France        |32 Biomedical and Clinical Sciences|880         |\n",
            "|United Kingdom|32 Biomedical and Clinical Sciences|859         |\n",
            "|Belgium       |32 Biomedical and Clinical Sciences|692         |\n",
            "|Canada        |32 Biomedical and Clinical Sciences|688         |\n",
            "|Poland        |32 Biomedical and Clinical Sciences|633         |\n",
            "|Netherlands   |32 Biomedical and Clinical Sciences|609         |\n",
            "|Australia     |32 Biomedical and Clinical Sciences|590         |\n",
            "|Austria       |32 Biomedical and Clinical Sciences|520         |\n",
            "|Czechia       |32 Biomedical and Clinical Sciences|490         |\n",
            "|Israel        |32 Biomedical and Clinical Sciences|465         |\n",
            "|South Korea   |32 Biomedical and Clinical Sciences|451         |\n",
            "|Switzerland   |32 Biomedical and Clinical Sciences|448         |\n",
            "|Hungary       |32 Biomedical and Clinical Sciences|442         |\n",
            "|Japan         |32 Biomedical and Clinical Sciences|408         |\n",
            "|Portugal      |32 Biomedical and Clinical Sciences|392         |\n",
            "|Sweden        |32 Biomedical and Clinical Sciences|391         |\n",
            "+--------------+-----------------------------------+------------+\n",
            "only showing top 20 rows\n",
            "\n"
          ]
        }
      ],
      "source": [
        "from pyspark.sql.window import Window\n",
        "from pyspark.sql.functions import row_number\n",
        "\n",
        "windowSpec = Window.partitionBy(\"Paesi\").orderBy(desc(\"Numero_Prove\"))\n",
        "\n",
        "clinicalDS.select(explode(split(\"Fields of Research (ANZSRC 2020)\",r\"[;,]+\")).alias(\"Campi_Ricerca\"),explode(split(\"Country of Sponsor/Collaborator\",\";\")).alias(\"Paesi\"),\"Trial ID\") \\\n",
        ".distinct() \\\n",
        ".withColumn(\"Campi_Ricerca\", trim(col(\"Campi_Ricerca\")) ) \\\n",
        ".withColumn(\"Paesi\",  trim(col(\"Paesi\"))) \\\n",
        ".where(clinicalDS[\"Number of Participants\"]>=500) \\\n",
        ".withColumn(\"Paesi\",trim(col(\"Paesi\"))) \\\n",
        ".filter(col(\"Number of Participants\")!=\"NaN\") \\\n",
        ".filter((col(\"Paesi\") != \"\") & (col(\"Campi_Ricerca\") != \"\")) \\\n",
        ".groupBy(\"Paesi\", \"Campi_Ricerca\") \\\n",
        ".agg(count(\"Trial ID\").alias(\"Numero_Prove\")) \\\n",
        ".withColumn(\"rank\", row_number().over(windowSpec)) \\\n",
        ".filter(col(\"rank\") == 1) \\\n",
        ".orderBy(desc(\"Numero_Prove\")) \\\n",
        ".drop(\"rank\") \\\n",
        ".show(truncate=False)"
      ]
    },
    {
      "cell_type": "markdown",
      "source": [
        "### **Objective N19: Find the most popular (in term of Number of Clinical Trials) cities with a recruitment status different from \"Completed\" that have a completion year after 2027 per Study Type**\n",
        "\n",
        "In order to find The **the most popular cities with a recruitment status different from \"Completed\" that have a completion year after 2027, grouping by Study Type** we selected the **Trial ID, Completion Year, Study Type and City of Sponsor/Collaborator** Categories (exploding the _City of Sponsor/Collaborator_ list generated by the split function on the \";\" character in order to consider all the effective values), grouping by \"\"Study Type\", \"Completion Year\", \"Trial ID\"\" fields and ordering by the number of trials."
      ],
      "metadata": {
        "id": "nayIlDg-n7lT"
      }
    },
    {
      "cell_type": "code",
      "source": [
        "clinicalDS.select(\"Trial ID\",explode(split(\"City of Sponsor/Collaborator\",r\"[;,]+\")).alias(\"Cities\"),\"Completion Year\",\"Study Type\") \\\n",
        ".distinct() \\\n",
        ".withColumn(\"Cities\", trim(col(\"Cities\"))) \\\n",
        ".filter( col(\"Cities\") != \"\") \\\n",
        ".where((clinicalDS[\"Recruitment Status\"]!=\"Completed\") & (clinicalDS[\"Completion Year\"]>2027)) \\\n",
        ".groupBy(\"Cities\", \"Study Type\", \"Completion Year\", \"Trial ID\") \\\n",
        ".agg(count(\"Trial ID\").alias(\"Numero_Prove\")) \\\n",
        ".orderBy(desc(\"Numero_Prove\")) \\\n",
        ".show()"
      ],
      "metadata": {
        "colab": {
          "base_uri": "https://localhost:8080/"
        },
        "id": "JwyIslNbn8rS",
        "outputId": "d99045c4-9d2d-4a94-d25a-924f4d04d7ed"
      },
      "execution_count": 51,
      "outputs": [
        {
          "output_type": "stream",
          "name": "stdout",
          "text": [
            "+-------------+--------------+---------------+-----------+------------+\n",
            "|       Cities|    Study Type|Completion Year|   Trial ID|Numero_Prove|\n",
            "+-------------+--------------+---------------+-----------+------------+\n",
            "| Philadelphia|Interventional|         2029.0|NCT04166318|           2|\n",
            "|       Vienna|Interventional|         2031.0|NCT03617133|           2|\n",
            "|        Milan|Interventional|         2029.0|NCT05703997|           2|\n",
            "|     New York|Interventional|         2028.0|NCT03052608|           2|\n",
            "|        Milan|Interventional|         2029.0|NCT05339841|           2|\n",
            "|      Sassari| Observational|         2029.0|NCT05283603|           2|\n",
            "| Philadelphia|Interventional|         2029.0|NCT05053152|           2|\n",
            "|     Florence| Observational|         2028.0|NCT05363657|           2|\n",
            "|       Padova|Interventional|            NaN|NCT01442324|           2|\n",
            "|        Turin| Observational|            NaN|NCT02670239|           2|\n",
            "|         Bern|Interventional|         2030.0|NCT04604067|           2|\n",
            "|      Bologna|Interventional|         2028.0|NCT06193642|           2|\n",
            "|       Padova| Observational|            NaN| RBR-8kfr58|           2|\n",
            "|        Pavia| Observational|            NaN|NCT02064218|           2|\n",
            "|      Perugia|Interventional|            NaN|NCT00222677|           2|\n",
            "| Philadelphia|Interventional|         2031.0|NCT01368588|           2|\n",
            "| Philadelphia|Interventional|         2030.0|NCT05174169|           2|\n",
            "|     Brussels|Interventional|         2031.0|NCT02102165|           2|\n",
            "|San Francisco|Interventional|         2029.0|NCT05039619|           2|\n",
            "|   Copenhagen| Observational|         2030.0|NCT02699736|           2|\n",
            "+-------------+--------------+---------------+-----------+------------+\n",
            "only showing top 20 rows\n",
            "\n"
          ]
        }
      ]
    },
    {
      "cell_type": "markdown",
      "source": [
        "### **Objective N20: Find the 5 top AHCs that have sponsored the most number of trials about Pneumonia condition since 2020**\n",
        "\n",
        "In order to find **the 5 top AHCs that have sponsored the most number of trials about polmonite since 2020** we selected the **AHC, Trial ID, Conditions and Start Year** Categories (exploding the _Conditions_ list generated by the split function on the \";\" character in order to consider all the effective values). After that, we detemined a _where_ clause on \"Conditions\" and \"Start Year\" in order to display the proper output and grouping by \"AHC\", \"Conditions\", \"Start Year\" fields and ordering by the number of trials. Finally, we limited the output to only 5 entries of the dataset."
      ],
      "metadata": {
        "id": "2XMGc6PhpeDr"
      }
    },
    {
      "cell_type": "code",
      "source": [
        "clinicalDS.select(\"AHC\",\"Trial ID\",explode(split(\"Conditions\",r\"[;,]+\")).alias(\"Conditions\"), \"Start Year\") \\\n",
        ".distinct() \\\n",
        ".withColumn(\"Conditions\", trim(col(\"Conditions\"))) \\\n",
        ".where((col(\"Conditions\")==\"Pneumonia\") & (col(\"Start Year\")>=2020)) \\\n",
        ".groupBy(\"AHC\", \"Conditions\", \"Start Year\") \\\n",
        ".agg(count(\"Trial ID\").alias(\"Numero_Prove\")) \\\n",
        ".orderBy(desc(\"Numero_Prove\")) \\\n",
        ".limit(5) \\\n",
        ".show()"
      ],
      "metadata": {
        "colab": {
          "base_uri": "https://localhost:8080/"
        },
        "id": "wveB-cSzpgy5",
        "outputId": "41ffc239-4624-4b81-f125-4db69ebf2f65"
      },
      "execution_count": 52,
      "outputs": [
        {
          "output_type": "stream",
          "name": "stdout",
          "text": [
            "+----------------+----------+----------+------------+\n",
            "|             AHC|Conditions|Start Year|Numero_Prove|\n",
            "+----------------+----------+----------+------------+\n",
            "|IRCCS_SANGERARDO| Pneumonia|    2020.0|           2|\n",
            "|      AOU_MODENA| Pneumonia|    2020.0|           2|\n",
            "|      AOU_PADOVA| Pneumonia|    2020.0|           1|\n",
            "|  IRCCS_CAGRANDA| Pneumonia|    2020.0|           1|\n",
            "|  IRCCS_CAGRANDA| Pneumonia|    2022.0|           1|\n",
            "+----------------+----------+----------+------------+\n",
            "\n"
          ]
        }
      ]
    }
  ]
}