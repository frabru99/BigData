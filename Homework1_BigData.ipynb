{
  "nbformat": 4,
  "nbformat_minor": 0,
  "metadata": {
    "colab": {
      "provenance": []
    },
    "kernelspec": {
      "name": "python3",
      "display_name": "Python 3"
    },
    "language_info": {
      "name": "python"
    }
  },
  "cells": [
    {
      "cell_type": "markdown",
      "source": [
        "# Homework 1 - Francesco Brunello (M63001655), Antonio Boccarossa (M63001643)\n",
        "\n",
        "---\n",
        "\n"
      ],
      "metadata": {
        "id": "GOKsRLiOcd26"
      }
    },
    {
      "cell_type": "markdown",
      "source": [
        "# Introduction to Clinical Trials\n",
        "Clinical trials are scientific studies conducted on human subjects to evaluate\n",
        "the safety and effectiveness of medical treatments, drugs, devices, or procedures.\n",
        "Each trial follows a defined protocol and may span several phases (Phase I, II,\n",
        "III, IV), sometimes involving thousands of participants across multiple countries.\n",
        "\n",
        "# The Dataset\n",
        "The dataset used in this exercise comes from Dimensions.ai, a platform that\n",
        "aggregates data on global scientific research. Each row in the dataset represents\n",
        "a clinical trial; informations about the columns can be found in the provided\n",
        "legend.csv file.\n",
        "Some columns contain nested or structured data, such as lists of conditions,\n",
        "organizations, or locations.\n",
        "\n",
        "# Task\n",
        "Perform at least five analytics using PySpark on the provided clinical trials\n",
        "dataset. The results must be compiled and presented in a structured PDF\n",
        "report. For each analysis, the report should include the following components:\n",
        "\n",
        "\n",
        "*   Objective: The goal of the analysis.\n",
        "*   Description: A brief description of the methodology used.\n",
        "*   Code: The PySpark code used to perform the analysis.\n",
        "\n",
        "Include analyses of varying complexity, from basic aggregations to more\n",
        "complex operations."
      ],
      "metadata": {
        "id": "00JYedWdfhQF"
      }
    },
    {
      "cell_type": "markdown",
      "source": [
        "### Dependencies\n",
        "*Installing pyspark dependencies.*"
      ],
      "metadata": {
        "id": "kU8pN3UFiQ6d"
      }
    },
    {
      "cell_type": "code",
      "source": [
        "# Run below commands in google colab\n",
        "# install Java8\n",
        "!apt-get install openjdk-8-jdk-headless -qq > /dev/null\n",
        "# download spark3.0.0\n",
        "!wget -q http://apache.osuosl.org/spark/spark-3.5.5/spark-3.5.5-bin-hadoop3.tgz\n",
        "# unzip it\n",
        "!tar xf spark-3.5.5-bin-hadoop3.tgz\n",
        "# install findspark\n",
        "!pip install -q findspark"
      ],
      "metadata": {
        "id": "UYYEBLuOiOzB"
      },
      "execution_count": 1,
      "outputs": []
    },
    {
      "cell_type": "markdown",
      "source": [
        "### Spark Context and Session\n",
        "*Creating Spark Context and Session in order to use pyspark.sql utilities*"
      ],
      "metadata": {
        "id": "JxWWaBMvivH7"
      }
    },
    {
      "cell_type": "code",
      "source": [
        "import os\n",
        "os.environ[\"JAVA_HOME\"] = \"/usr/lib/jvm/java-8-openjdk-amd64\"\n",
        "os.environ[\"SPARK_HOME\"] = \"/content/spark-3.5.5-bin-hadoop3\""
      ],
      "metadata": {
        "id": "NIgvYIr3iPos"
      },
      "execution_count": 2,
      "outputs": []
    },
    {
      "cell_type": "code",
      "source": [
        "# Verify the Spark version running on the virtual cluster\n",
        "import pyspark as ps\n",
        "from pyspark.context import SparkContext\n",
        "sc = SparkContext.getOrCreate()\n",
        "\n",
        "assert  \"3.\" in sc.version, \"Verify that the cluster Spark's version is 3.x\""
      ],
      "metadata": {
        "id": "6RdAEzeciskW"
      },
      "execution_count": 3,
      "outputs": []
    },
    {
      "cell_type": "code",
      "source": [
        "from pyspark.sql import SparkSession\n",
        "spark = SparkSession(sc)\n",
        "print(spark)"
      ],
      "metadata": {
        "colab": {
          "base_uri": "https://localhost:8080/"
        },
        "id": "-UNcgpk4i47W",
        "outputId": "8857eeea-c4cd-4a8b-802f-f9ad043d3f2f"
      },
      "execution_count": 4,
      "outputs": [
        {
          "output_type": "stream",
          "name": "stdout",
          "text": [
            "<pyspark.sql.session.SparkSession object at 0x7f6db421a710>\n"
          ]
        }
      ]
    },
    {
      "cell_type": "markdown",
      "source": [
        "### Reading the Dataset"
      ],
      "metadata": {
        "id": "Soxz3xyZTNn4"
      }
    },
    {
      "cell_type": "markdown",
      "source": [
        "*The given dataset is composed by various data entries related to clinical trials and it's composed by 15999 rows and 38 columns.*"
      ],
      "metadata": {
        "id": "UYAit81chtrb"
      }
    },
    {
      "cell_type": "code",
      "source": [
        "import pandas as pd\n",
        "df = pd.read_excel(\"dimensions_clinicalTrials.xlsx\")\n",
        "clinicalDS = spark.createDataFrame(df)\n",
        "# printSchema shows the names and types of columns\n",
        "clinicalDS.printSchema()"
      ],
      "metadata": {
        "colab": {
          "base_uri": "https://localhost:8080/"
        },
        "id": "eFHrkChbjTCd",
        "outputId": "a2df7300-9418-403c-8996-df2b31f02ad9"
      },
      "execution_count": 5,
      "outputs": [
        {
          "output_type": "stream",
          "name": "stdout",
          "text": [
            "root\n",
            " |-- Rank: long (nullable = true)\n",
            " |-- Trial ID: string (nullable = true)\n",
            " |-- Title: string (nullable = true)\n",
            " |-- Brief title: string (nullable = true)\n",
            " |-- Acronym: string (nullable = true)\n",
            " |-- Abstract: string (nullable = true)\n",
            " |-- Start date: timestamp (nullable = true)\n",
            " |-- Start Year: double (nullable = true)\n",
            " |-- End Date: timestamp (nullable = true)\n",
            " |-- Completion Year: double (nullable = true)\n",
            " |-- Phase: string (nullable = true)\n",
            " |-- Study Type: string (nullable = true)\n",
            " |-- Study Design: string (nullable = true)\n",
            " |-- Conditions: string (nullable = true)\n",
            " |-- Recruitment Status: string (nullable = true)\n",
            " |-- Number of Participants: double (nullable = true)\n",
            " |-- Intervention: string (nullable = true)\n",
            " |-- Gender: string (nullable = true)\n",
            " |-- Age: string (nullable = true)\n",
            " |-- Registry: string (nullable = true)\n",
            " |-- Investigators/Contacts: string (nullable = true)\n",
            " |-- Sponsors/Collaborators: string (nullable = true)\n",
            " |-- City of Sponsor/Collaborator: string (nullable = true)\n",
            " |-- State of Sponsor/Collaborator: string (nullable = true)\n",
            " |-- Country of Sponsor/Collaborator: string (nullable = true)\n",
            " |-- Collaborating Funders: string (nullable = true)\n",
            " |-- Funder Group: string (nullable = true)\n",
            " |-- Funder Country: string (nullable = true)\n",
            " |-- Source Linkout: string (nullable = true)\n",
            " |-- Altmetric Attention Score: double (nullable = true)\n",
            " |-- Dimensions URL: string (nullable = true)\n",
            " |-- Fields of Research (ANZSRC 2020): string (nullable = true)\n",
            " |-- RCDC Categories: string (nullable = true)\n",
            " |-- HRCS HC Categories: string (nullable = true)\n",
            " |-- HRCS RAC Categories: string (nullable = true)\n",
            " |-- Cancer Types: string (nullable = true)\n",
            " |-- CSO Categories: string (nullable = true)\n",
            " |-- AHC: string (nullable = true)\n",
            "\n"
          ]
        }
      ]
    },
    {
      "cell_type": "markdown",
      "source": [
        "### **Objective N1: Find the number of studies started per year.**\n",
        "\n",
        "\n"
      ],
      "metadata": {
        "id": "D-amqPJkjr0S"
      }
    },
    {
      "cell_type": "markdown",
      "source": [
        "In order to find the ***The number of studies started per year*** we grouped the rows by the column 'Start Year', counted the different studies identified by Trial ID for each year and sorted the result by the count."
      ],
      "metadata": {
        "id": "FULUoP3XTiUc"
      }
    },
    {
      "cell_type": "code",
      "source": [
        "from pyspark.sql.functions import count , desc\n",
        "\n",
        "clinicalDS \\\n",
        ".select('Trial ID', 'Start Year') \\\n",
        ".distinct() \\\n",
        ".groupBy('Start Year') \\\n",
        ".agg(count('`Trial ID`') \\\n",
        ".alias('Number of Studies')) \\\n",
        ".orderBy(desc('Number of Studies')) \\\n",
        ".show(40)"
      ],
      "metadata": {
        "colab": {
          "base_uri": "https://localhost:8080/"
        },
        "id": "og_tyf98luBW",
        "outputId": "e0715dc7-f005-4db6-e9bf-4e0e66f29e60"
      },
      "execution_count": 83,
      "outputs": [
        {
          "output_type": "stream",
          "name": "stdout",
          "text": [
            "+----------+-----------------+\n",
            "|Start Year|Number of Studies|\n",
            "+----------+-----------------+\n",
            "|    2021.0|              722|\n",
            "|    2020.0|              662|\n",
            "|    2019.0|              640|\n",
            "|    2018.0|              589|\n",
            "|    2022.0|              585|\n",
            "|    2017.0|              548|\n",
            "|    2015.0|              457|\n",
            "|    2016.0|              446|\n",
            "|    2023.0|              399|\n",
            "|    2014.0|              397|\n",
            "|    2013.0|              370|\n",
            "|    2012.0|              367|\n",
            "|    2011.0|              325|\n",
            "|    2010.0|              295|\n",
            "|    2009.0|              287|\n",
            "|    2008.0|              287|\n",
            "|    2007.0|              226|\n",
            "|    2006.0|              200|\n",
            "|    2005.0|              130|\n",
            "|    2004.0|              101|\n",
            "|    2003.0|               56|\n",
            "|    2001.0|               45|\n",
            "|    2002.0|               40|\n",
            "|    2024.0|               38|\n",
            "|    2000.0|               35|\n",
            "|       NaN|               25|\n",
            "|    1998.0|               19|\n",
            "|    1999.0|               18|\n",
            "|    1997.0|               11|\n",
            "|    1995.0|                8|\n",
            "|    1996.0|                8|\n",
            "|    1994.0|                7|\n",
            "|    1993.0|                4|\n",
            "|    1992.0|                3|\n",
            "|    1988.0|                2|\n",
            "|    2025.0|                2|\n",
            "|    1987.0|                1|\n",
            "|    1989.0|                1|\n",
            "|    1991.0|                1|\n",
            "+----------+-----------------+\n",
            "\n"
          ]
        }
      ]
    },
    {
      "cell_type": "markdown",
      "source": [
        "### **Objective N2: Find the Top 10 most frequent medical conditions in all clinical trials**"
      ],
      "metadata": {
        "id": "O-1F5ut8v3Ss"
      }
    },
    {
      "cell_type": "markdown",
      "source": [
        "In order to find ***The Top 10 most frequent medical conditions in all clinical trials*** we grouped the rows by the 'Conditions' field (exploding the list generated by the split function on the \";\" and \",\" characters in order to consider all the effective values of Conditions field), counted and sorted all of them to find the results, filtering NaN values.\n",
        "\n",
        "\n",
        "\n",
        "\n"
      ],
      "metadata": {
        "id": "loZkvCcuU7xZ"
      }
    },
    {
      "cell_type": "code",
      "source": [
        "clinicalDS \\\n",
        ".select('Trial ID', 'Conditions') \\\n",
        ".distinct() \\\n",
        ".withColumn('Conditions', explode(split('Conditions', r\"[;,]+\"))) \\\n",
        ".withColumn('trimmedCondition', trim(col('Conditions'))) \\\n",
        ".filter(col('trimmedCondition') != 'NaN') \\\n",
        ".groupBy('trimmedCondition') \\\n",
        ".agg(count('trimmedCondition').alias('Entries')) \\\n",
        ".orderBy(desc('Entries')) \\\n",
        ".show(10, truncate=False)"
      ],
      "metadata": {
        "colab": {
          "base_uri": "https://localhost:8080/"
        },
        "id": "HGco32AKw4aX",
        "outputId": "b06e9b05-458c-462b-b531-9b289951e024"
      },
      "execution_count": 54,
      "outputs": [
        {
          "output_type": "stream",
          "name": "stdout",
          "text": [
            "+-----------------------+-------+\n",
            "|trimmedCondition       |Entries|\n",
            "+-----------------------+-------+\n",
            "|Breast Cancer          |158    |\n",
            "|Carcinoma              |97     |\n",
            "|Lymphoma               |87     |\n",
            "|Multiple Myeloma       |83     |\n",
            "|Coronary Artery Disease|71     |\n",
            "|Heart Failure          |67     |\n",
            "|Lung Cancer            |63     |\n",
            "|Leukemia               |62     |\n",
            "|Ovarian Cancer         |60     |\n",
            "|Colorectal Cancer      |56     |\n",
            "+-----------------------+-------+\n",
            "only showing top 10 rows\n",
            "\n"
          ]
        }
      ]
    },
    {
      "cell_type": "markdown",
      "source": [
        "### **Objective N3: Find the Top 10 Funder Countries that financied the most relevant studies in terms of total Altmetric Attention Score.**"
      ],
      "metadata": {
        "id": "xVbOvlhE3mXB"
      }
    },
    {
      "cell_type": "markdown",
      "source": [
        "In order to find ***The Top 10 Funder Countries that financied the most relevant studies in terms of total Altmetric Attention Score*** we selected all the Countries (exploding the list generated by the split function on the \";\" and \",\" characters in order to consider all the effective values of Funder Countries) and Altmetric Attention Score, filtering the NaN values, grouping by Countries and ordering the resultant rows by the total amount of the Total Altmetric Attention Score per Country.\n"
      ],
      "metadata": {
        "id": "OHRdVtQpWL5M"
      }
    },
    {
      "cell_type": "code",
      "source": [
        "from pyspark.sql.functions import explode, split, trim, sum, col\n",
        "\n",
        "clinicalDS \\\n",
        ".select('Trial ID', explode(split('Funder Country', r\"[;,]+\")).alias('Countries'), 'Altmetric Attention Score') \\\n",
        ".distinct() \\\n",
        ".withColumn('Countries', trim(col(\"Countries\"))) \\\n",
        ".filter(col('Altmetric Attention Score') != \"NaN\")\\\n",
        ".filter(col('Countries') != \"NaN\")\\\n",
        ".groupBy('Countries')\\\n",
        ".agg(sum('Altmetric Attention Score').alias('Total Altmetric Attention Score'))\\\n",
        ".orderBy(desc('Total Altmetric Attention Score')) \\\n",
        ".show(10)"
      ],
      "metadata": {
        "colab": {
          "base_uri": "https://localhost:8080/"
        },
        "id": "Pes4GjlzsqI7",
        "outputId": "418e63fb-a946-43d6-8508-ee87f68e7dba"
      },
      "execution_count": 86,
      "outputs": [
        {
          "output_type": "stream",
          "name": "stdout",
          "text": [
            "+--------------+-------------------------------+\n",
            "|     Countries|Total Altmetric Attention Score|\n",
            "+--------------+-------------------------------+\n",
            "| United States|                        90348.0|\n",
            "|         Japan|                        16558.0|\n",
            "|       Germany|                        12597.0|\n",
            "|United Kingdom|                         4549.0|\n",
            "|        France|                         2488.0|\n",
            "|   Switzerland|                         1641.0|\n",
            "|         Italy|                         1418.0|\n",
            "|       Belgium|                          625.0|\n",
            "|        Canada|                          449.0|\n",
            "|   Netherlands|                          167.0|\n",
            "+--------------+-------------------------------+\n",
            "only showing top 10 rows\n",
            "\n"
          ]
        }
      ]
    },
    {
      "cell_type": "markdown",
      "source": [
        "### **Objective N4: Find the Top 5 research fields with most clinic trials.**"
      ],
      "metadata": {
        "id": "SHg572syhk8J"
      }
    },
    {
      "cell_type": "markdown",
      "source": [
        "In order to find ***The Top 5 fields of the research with most clinic trials*** we selected all the Fields of Research (exploding the list generated by the split function on the \";\" and \",\" characters in order to consider all the effective values of Reasearch Fields) filtering the NaN values. Also, we grouped on the Research Field in order to count them."
      ],
      "metadata": {
        "id": "bdQeGqC-YI4O"
      }
    },
    {
      "cell_type": "code",
      "source": [
        "clinicalDS\\\n",
        ".select('Trial ID', explode(split('Fields of Research (ANZSRC 2020)', r\"[;,]+\")).alias('Research Field')) \\\n",
        ".distinct() \\\n",
        ".withColumn('Research Field', trim(col(\"Research Field\"))) \\\n",
        ".filter(col('Research Field') != \"NaN\") \\\n",
        ".groupBy('Research Field') \\\n",
        ".agg(count(col('Research Field')).alias('Count of trials')) \\\n",
        ".orderBy(desc('Count of trials')) \\\n",
        ".show(5, truncate=False)"
      ],
      "metadata": {
        "colab": {
          "base_uri": "https://localhost:8080/"
        },
        "id": "tH9GsOL90AXa",
        "outputId": "a66ab4d7-9078-4b9d-ba3a-555183d91900"
      },
      "execution_count": 87,
      "outputs": [
        {
          "output_type": "stream",
          "name": "stdout",
          "text": [
            "+--------------------------------------------+---------------+\n",
            "|Research Field                              |Count of trials|\n",
            "+--------------------------------------------+---------------+\n",
            "|32 Biomedical and Clinical Sciences         |7860           |\n",
            "|3202 Clinical Sciences                      |4144           |\n",
            "|3211 Oncology and Carcinogenesis            |2492           |\n",
            "|42 Health Sciences                          |835            |\n",
            "|3201 Cardiovascular Medicine and Haematology|750            |\n",
            "+--------------------------------------------+---------------+\n",
            "only showing top 5 rows\n",
            "\n"
          ]
        }
      ]
    },
    {
      "cell_type": "markdown",
      "source": [
        "### **Objective N5: Find the longest Phase 3 of Clinical Trials in term of expected or actual years.**\n",
        "\n",
        "\n"
      ],
      "metadata": {
        "id": "vwAAbRgcijVN"
      }
    },
    {
      "cell_type": "markdown",
      "source": [
        "In order to find ***The longest Phase 3 of Clinical Trials in term of expected or actual years*** we created a new column called 'Years' filling it with the difference between 'Completion Year' and 'Start Year' (previously filtered to avoid NaN values). In addition, we selected the appropriate fields, filtering the output on 'Phase' field and ordering all by 'Years' field."
      ],
      "metadata": {
        "id": "uzJHnfLWalzs"
      }
    },
    {
      "cell_type": "code",
      "source": [
        "clinicalDS \\\n",
        ".filter(col('Completion Year') != 'NaN') \\\n",
        ".filter(col('Start Year') != 'NaN') \\\n",
        ".withColumn('Years', col('Completion Year') - col('Start Year')) \\\n",
        ".select('Trial ID', 'Abstract', 'Years', 'Completion Year', 'Start Year') \\\n",
        ".distinct() \\\n",
        ".where(col('Phase') == 'Phase 3') \\\n",
        ".orderBy(desc('Years')) \\\n",
        ".show(2)"
      ],
      "metadata": {
        "colab": {
          "base_uri": "https://localhost:8080/"
        },
        "id": "FnyZcZqG2s6V",
        "outputId": "3fb10ca5-52d4-4132-85df-6284ec1c09d1"
      },
      "execution_count": 119,
      "outputs": [
        {
          "output_type": "stream",
          "name": "stdout",
          "text": [
            "+-----------+--------------------+-----+---------------+----------+\n",
            "|   Trial ID|            Abstract|Years|Completion Year|Start Year|\n",
            "+-----------+--------------------+-----+---------------+----------+\n",
            "|NCT00070564|RATIONALE: Drugs ...| 24.0|         2027.0|    2003.0|\n",
            "|NCT01704716|This is a randomi...| 24.0|         2026.0|    2002.0|\n",
            "+-----------+--------------------+-----+---------------+----------+\n",
            "only showing top 2 rows\n",
            "\n"
          ]
        }
      ]
    },
    {
      "cell_type": "markdown",
      "source": [
        "### **Objective N6: Find the most frequent HRCS HC Categories of study per gender (All, Female, Male), studied between 2005 and 2021 ordered by the sum of the Altmetric Attention Score of the related clinical trials.**\n",
        "\n",
        "\n"
      ],
      "metadata": {
        "id": "qViR9dKbjNJ5"
      }
    },
    {
      "cell_type": "markdown",
      "source": [
        "In order to find ***The most frequent HRCS HC Categories of study per gender (All, Female, Male), studied between 2005 and 2021 ordered by the sum of the Altmetric Attention Score of the related clinical trials*** we created a Window object in order to partitition the final output by the Gender besed on the rank assigned by the row_number function. This function, associates a \"rank\" value based on the Total Attention Score assumed by that istance.\n",
        "\n",
        "In the query, we selected the HRCS HC Categories (exploding the list generated by the split function on the \";\" and \",\" characters in order to consider all the effective values of HRCS HC Categories field), filtering the data by years and removing the NaN values. Also, we grouped the data by Gender and Categories, in order to execute the sum of the AASs values and find the first ranked row for each gender."
      ],
      "metadata": {
        "id": "FgBouG5siuwi"
      }
    },
    {
      "cell_type": "code",
      "source": [
        "from pyspark.sql.window import Window\n",
        "from pyspark.sql.functions import row_number\n",
        "\n",
        "windowSpec = Window.partitionBy(\"Gender\").orderBy(desc(\"Total Attention Score\")) #Partizioniamo in base al genere e ordiniamo in base al Total Attention Score\n",
        "\n",
        "results = clinicalDS.select('Trial ID', explode(split('HRCS HC Categories', r'[;,]+')).alias('Categories'), 'Gender', 'Altmetric Attention Score') \\\n",
        ".distinct() \\\n",
        ".withColumn('Categories', trim(col('Categories'))) \\\n",
        ".filter(col('Categories')!= 'NaN') \\\n",
        ".filter(col('Gender') != 'NaN') \\\n",
        ".filter(col('Altmetric Attention Score') != 'NaN') \\\n",
        ".filter(col('Start Year')> 2004) \\\n",
        ".filter(col('Completion Year')< 2022) \\\n",
        ".groupBy('Gender', 'Categories' ) \\\n",
        ".agg(sum('Altmetric Attention Score').alias('Total Attention Score')) \\\n",
        ".orderBy(desc('Total Attention Score')) \\\n",
        ".withColumn(\"rank\", row_number().over(windowSpec)) \\\n",
        ".filter(col(\"rank\") == 1) \\\n",
        ".drop(\"rank\") \\\n",
        ".show()\n"
      ],
      "metadata": {
        "colab": {
          "base_uri": "https://localhost:8080/"
        },
        "id": "8X_IZemc6_kJ",
        "outputId": "3a137967-37c2-4c63-e1a5-a9b3fd8805bd"
      },
      "execution_count": 89,
      "outputs": [
        {
          "output_type": "stream",
          "name": "stdout",
          "text": [
            "+------+----------+---------------------+\n",
            "|Gender|Categories|Total Attention Score|\n",
            "+------+----------+---------------------+\n",
            "|   All|    Cancer|              11539.0|\n",
            "|Female|    Cancer|                780.0|\n",
            "|  Male|    Cancer|                141.0|\n",
            "+------+----------+---------------------+\n",
            "\n"
          ]
        }
      ]
    },
    {
      "cell_type": "markdown",
      "source": [
        "### **Objective N7: Find the Top 10 AHC involved in Mental Health Category clinical trials with more than 100 participants.**\n"
      ],
      "metadata": {
        "id": "jIwLgs3bmtIc"
      }
    },
    {
      "cell_type": "markdown",
      "source": [
        "In order to find ***The Top 10 AHC involved in Mental Health category clinical trials with more then 100 participants*** we selected the HRCS HS Categories (exploding the list generated by the split function on the \";\" and \",\" characters in order to consider all the effective values of HRCS HS Categories) filterintg NaN values and finding only the rows with 'Mental Health' category. We also filtered the data by the Number of Partecipants, grouped by AHC values and ordered by Number of trails in order to show the right output."
      ],
      "metadata": {
        "id": "awhRN3fpcA2I"
      }
    },
    {
      "cell_type": "code",
      "source": [
        "clinicalDS.select('Trial ID', 'AHC', explode(split('HRCS HC Categories', r'[;,]+')).alias('HRCS HC Categories Splitted') ) \\\n",
        ".distinct() \\\n",
        ".withColumn('HRCS HC Categories Splitted', trim(col('HRCS HC Categories Splitted'))) \\\n",
        ".filter(col('HRCS HC Categories Splitted') != 'NaN') \\\n",
        ".filter(col('HRCS HC Categories Splitted') == 'Mental health') \\\n",
        ".filter(col('Number of Participants') > 100) \\\n",
        ".groupBy('AHC')\\\n",
        ".agg(count('AHC').alias('Number of trials')) \\\n",
        ".orderBy(desc('Number of trials')) \\\n",
        ".show(10, truncate=False)"
      ],
      "metadata": {
        "colab": {
          "base_uri": "https://localhost:8080/"
        },
        "id": "Vq41lB_799p7",
        "outputId": "fab986d0-c31a-47ba-a0d4-52aec2c5cfbc"
      },
      "execution_count": 90,
      "outputs": [
        {
          "output_type": "stream",
          "name": "stdout",
          "text": [
            "+---------------------+----------------+\n",
            "|AHC                  |Number of trials|\n",
            "+---------------------+----------------+\n",
            "|IRCCS_CAGRANDA       |8               |\n",
            "|AOU_SENESE           |7               |\n",
            "|AOU_CITTADELLASCIENZA|6               |\n",
            "|AOUSSN_GMARTINO      |6               |\n",
            "|AOU_CAREGGI          |5               |\n",
            "|IRCCS_BURLOGAROFOLO  |5               |\n",
            "|AOU_VERONA           |4               |\n",
            "|AOU_RIUNITIFOGGIA    |3               |\n",
            "|IRCCS_SANMARTINO     |3               |\n",
            "|AOU_GONZAGA          |3               |\n",
            "+---------------------+----------------+\n",
            "only showing top 10 rows\n",
            "\n"
          ]
        }
      ]
    },
    {
      "cell_type": "markdown",
      "source": [
        "### **Objective N8: Find the most used Intervention Models (in Study Design field) and the most used couple Intervention Models/Intervention Method (in Intervention field) in cancer related clinical trails**"
      ],
      "metadata": {
        "id": "ia3q55xLp9ln"
      }
    },
    {
      "cell_type": "markdown",
      "source": [
        "In order to find ***The most used Intervention Models (in Study Design field) and the most used couple Intervention Models/Intervention Method (in Intervention field) in cancer related clinical trails*** we made two separate queries.\n",
        "In the first one, we selected the Study Design categories (exploding the list generated by the split function on the \";\" and \",\" characters in order to consider all the effective values of Study Design) filterintg NaN values and finding only the rows with 'Intervention' value. We also grouped the data by the new field Design Phases and ordered the data by the Number of Intevention in order to show the correct output.\n",
        "\n",
        "In the second one, we selected the Study Design categories (exploding the list generated by the split function on the \";\" and \",\" characters in order to consider all the effective values of Study Design) and Intevention in the same way. In addittion, thanks to a window object we ranked the couples Intervention Models/Intervention previously and filtered only the first ranked entries.\n"
      ],
      "metadata": {
        "id": "i3j7ugdUgWE-"
      }
    },
    {
      "cell_type": "code",
      "source": [
        "# First Query\n",
        "print(\"FIRST QUERY\")\n",
        "clinicalDS.select('Trial ID', explode(split('Study Design', r'[;,]+')).alias('Design Phases'))\\\n",
        ".distinct() \\\n",
        ".withColumn('Design Phases', trim(col('Design Phases')))\\\n",
        ".filter(col('Design Phases').startswith('Intervention'))\\\n",
        ".filter(col('Cancer Types') != 'NaN') \\\n",
        ".groupBy('Design Phases')\\\n",
        ".agg(count('Design Phases').alias('Number of Intervention'))\\\n",
        ".orderBy(desc('Number of Intervention'))\\\n",
        ".show(6, truncate=False)\n",
        "\n",
        "\n",
        "#Second Query\n",
        "print(\"SECOND QUERY\")\n",
        "windowSpec = Window.partitionBy('Design Phases').orderBy(desc('Number of Intervention'))\n",
        "\n",
        "clinicalDS.select('Trial ID', explode(split('Study Design', r'[;,]+')).alias('Design Phases'), explode(split('Intervention', r'[;,]+')).alias('Intervention Method'))\\\n",
        ".distinct() \\\n",
        ".withColumn('Design Phases', trim(col('Design Phases')))\\\n",
        ".withColumn('Intervention Method', trim(col('Intervention Method')))\\\n",
        ".filter(col('Design Phases').startswith('Intervention'))\\\n",
        ".filter(col('Cancer Types') != 'NaN') \\\n",
        ".filter(col('Intervention Method') != 'NaN') \\\n",
        ".groupBy('Design Phases', 'Intervention Method')\\\n",
        ".agg(count('Design Phases').alias('Number of Intervention'))\\\n",
        ".withColumn(\"rank\", row_number().over(windowSpec)) \\\n",
        ".filter(col(\"rank\") == 1) \\\n",
        ".drop(\"rank\") \\\n",
        ".orderBy(desc('Number of Intervention'))\\\n",
        ".show(truncate=False)"
      ],
      "metadata": {
        "colab": {
          "base_uri": "https://localhost:8080/"
        },
        "id": "rBLpXsvgBhdE",
        "outputId": "f927b5eb-33d2-403d-9d18-af8e7c70c34c"
      },
      "execution_count": 105,
      "outputs": [
        {
          "output_type": "stream",
          "name": "stdout",
          "text": [
            "FIRST QUERY\n",
            "+-------------------------------------------+----------------------+\n",
            "|Design Phases                              |Number of Intervention|\n",
            "+-------------------------------------------+----------------------+\n",
            "|Intervention Model: Parallel Assignment    |1440                  |\n",
            "|Intervention Model: Single Group Assignment|646                   |\n",
            "|Intervention Model: Sequential Assignment  |98                    |\n",
            "|Intervention Model: Crossover Assignment   |37                    |\n",
            "|Intervention Model: Factorial Assignment   |18                    |\n",
            "|Intervention Model: Cohort Study           |2                     |\n",
            "+-------------------------------------------+----------------------+\n",
            "only showing top 6 rows\n",
            "\n",
            "SECOND QUERY\n",
            "+-------------------------------------------+-------------------------------------+----------------------+\n",
            "|Design Phases                              |Intervention Method                  |Number of Intervention|\n",
            "+-------------------------------------------+-------------------------------------+----------------------+\n",
            "|Intervention Model: Parallel Assignment    |Placebo (Drug)                       |176                   |\n",
            "|Intervention Model: Single Group Assignment|Cyclophosphamide (Drug)              |14                    |\n",
            "|Intervention Model: Sequential Assignment  |Doxorubicin (Drug)                   |6                     |\n",
            "|Intervention Model: Crossover Assignment   |Placebo (Drug)                       |3                     |\n",
            "|Intervention Model: Factorial Assignment   |Dexamethasone (Drug)                 |2                     |\n",
            "|Intervention Model: Cohort Study           |Substance INN(s): Temozolomide (Drug)|1                     |\n",
            "+-------------------------------------------+-------------------------------------+----------------------+\n",
            "\n"
          ]
        }
      ]
    },
    {
      "cell_type": "markdown",
      "source": [
        "### **Objective N9: Found the most frequent Investigator per Study Type started between 2005 and 2025**\n",
        "\n",
        "\n"
      ],
      "metadata": {
        "id": "vUMbBELnhc4W"
      }
    },
    {
      "cell_type": "markdown",
      "source": [
        "\n",
        "\n",
        "In order to find ***The most frequent Investigator per Study Type started between 2005 and 2025*** we grouped on Study Type and Investigators on the filtered fields in order to count how many times an Investigator took part in a specific Study Type, per every Study Type. In order to got the right output, we used also in this case a Window in order to filter the output data.\n",
        "\n",
        "\n",
        "\n"
      ],
      "metadata": {
        "id": "h4AnopkiiZqZ"
      }
    },
    {
      "cell_type": "code",
      "source": [
        "\n",
        "windowSpec=Window.partitionBy('Study Type').orderBy(desc('Number of Studies'))\n",
        "\n",
        "clinicalDS.select('Trial ID', 'Study Type', explode(split(trim(col('Investigators/Contacts')), r\"[;,]+\")).alias('Investigators'), 'Start Year') \\\n",
        ".withColumn('Investigators', trim(col('Investigators'))) \\\n",
        ".distinct() \\\n",
        ".filter(col('Start Year') > 2004) \\\n",
        ".filter(col('Start Year') < 2026) \\\n",
        ".filter(col('Start Year') != 'NaN') \\\n",
        ".filter(col('Investigators') != 'NaN') \\\n",
        ".groupBy('Study Type', 'Investigators') \\\n",
        ".agg(count('Study Type').alias('Number of Studies')) \\\n",
        ".withColumn(\"rank\", row_number().over(windowSpec)) \\\n",
        ".filter(col(\"rank\") == 1) \\\n",
        ".drop(\"rank\") \\\n",
        ".orderBy(desc('Number of Studies')) \\\n",
        ".show(truncate=False)\n"
      ],
      "metadata": {
        "colab": {
          "base_uri": "https://localhost:8080/"
        },
        "id": "H-I6zdIriaHs",
        "outputId": "2900a20f-1d91-4557-a225-21eab21a3575"
      },
      "execution_count": 116,
      "outputs": [
        {
          "output_type": "stream",
          "name": "stdout",
          "text": [
            "+-------------------+------------------+-----------------+\n",
            "|Study Type         |Investigators     |Number of Studies|\n",
            "+-------------------+------------------+-----------------+\n",
            "|Interventional     |ABBVIE INC        |57               |\n",
            "|Observational      |Davide Chiumello  |12               |\n",
            "|Non-interventional |Claudio Franceschi|2                |\n",
            "|Active surveillance|Leone Roberto     |1                |\n",
            "|CCT                |Carolyn Hoppe     |1                |\n",
            "|Other              |Marco  Scioscia   |1                |\n",
            "|RCT                |Soccoh Alex Kabia |1                |\n",
            "+-------------------+------------------+-----------------+\n",
            "\n"
          ]
        }
      ]
    },
    {
      "cell_type": "markdown",
      "source": [
        "### **Objective N10: Find the Top 5 Sponsor States that are most active in Breast Cancer (Condition) clinical trials started from 2010 until nowdays.**"
      ],
      "metadata": {
        "id": "_bqLUln_oZfj"
      }
    },
    {
      "cell_type": "markdown",
      "source": [
        "In order to find ***The Top 5 Sponsor States that are most active in Breast Cancer (Condition) clinical trials from 2010 until nowdays*** we grouped the data (previously exploded, splitted and filtered) on 'States' and counted the Trials IDs of clinical trials that specifies Breast Cancer in 'Condition' field and. We also ordered the output by the Clinical Trials count in Breast Cancer.\n"
      ],
      "metadata": {
        "id": "l12biE-8s-1G"
      }
    },
    {
      "cell_type": "code",
      "source": [
        "from pyspark.sql.functions import year, current_date\n",
        "\n",
        "clinicalDS.select('Trial ID', explode(split(col('State of Sponsor/Collaborator'), r\"[;,]+\")).alias('States'), 'Start Year',\n",
        "                  explode(split( col('Conditions'), r\"[;,]+\" )).alias('Conditions')) \\\n",
        "                  .distinct() \\\n",
        "                  .withColumn('States', trim(col('States'))) \\\n",
        "                  .withColumn('Conditions', trim(col('Conditions'))) \\\n",
        "                  .filter(col('States')!=\"\") \\\n",
        "                  .filter(col('States')!=\" \") \\\n",
        "                  .filter(col('Conditions') == 'Breast Cancer') \\\n",
        "                  .filter(col('Start Year') > 2010 ) \\\n",
        "                  .filter(col('Start Year') < year(current_date()+1)) \\\n",
        "                  .groupBy('States') \\\n",
        "                  .agg(count('Trial ID').alias('Clinical Trials count in Breast Cancer')) \\\n",
        "                  .orderBy(desc('Clinical Trials count in Breast Cancer')) \\\n",
        "                  .show(5, truncate=False)\n"
      ],
      "metadata": {
        "colab": {
          "base_uri": "https://localhost:8080/"
        },
        "id": "gwTLNz6Es_Ty",
        "outputId": "c910277e-ab1c-47e0-a6af-2cbc2d324b07"
      },
      "execution_count": 140,
      "outputs": [
        {
          "output_type": "stream",
          "name": "stdout",
          "text": [
            "+----------+--------------------------------------+\n",
            "|States    |Clinical Trials count in Breast Cancer|\n",
            "+----------+--------------------------------------+\n",
            "|California|52                                    |\n",
            "|New York  |39                                    |\n",
            "|Texas     |30                                    |\n",
            "|Florida   |30                                    |\n",
            "|New Jersey|29                                    |\n",
            "+----------+--------------------------------------+\n",
            "only showing top 5 rows\n",
            "\n"
          ]
        }
      ]
    },
    {
      "cell_type": "markdown",
      "metadata": {
        "id": "JzafEB4ZhofO"
      },
      "source": [
        "## **Objective N11: Average number of participants per study title**\n",
        "\n",
        "In order to find The **Average number of participants per study title** we selected the **Title** category and then calculate the average of the **Number of Participants** on that field.\n"
      ]
    },
    {
      "cell_type": "code",
      "execution_count": null,
      "metadata": {
        "colab": {
          "base_uri": "https://localhost:8080/"
        },
        "id": "wwjx_gifgWeb",
        "outputId": "c8f02b31-a2e4-426e-d636-72d3af3df64e"
      },
      "outputs": [
        {
          "output_type": "stream",
          "name": "stdout",
          "text": [
            "+--------------------+---------------------------+\n",
            "|               Title|avg(Number of Participants)|\n",
            "+--------------------+---------------------------+\n",
            "|The epidemiology,...|                  2400000.0|\n",
            "|ACCESS template p...|                  1000000.0|\n",
            "|National Database...|                   285600.0|\n",
            "|Computerized Regi...|                   120000.0|\n",
            "|Effect of Pharmac...|                   115000.0|\n",
            "|CRICKET: Critical...|                   105000.0|\n",
            "|Digital Strategie...|                    82800.0|\n",
            "|RICALOR - Registr...|                    63692.0|\n",
            "|Analysis of In-ho...|                    60000.0|\n",
            "|What is the Best ...|                    60000.0|\n",
            "|Cohort Event Moni...|                    60000.0|\n",
            "|HPV as Primary Sc...|                    60000.0|\n",
            "|International Ran...|                    53142.0|\n",
            "|PRospective Evalu...|                    52156.0|\n",
            "|DianaWeb: Before ...|                    50000.0|\n",
            "|A Multicenter, Cr...|                    39480.0|\n",
            "|Evaluation and Im...|                    39000.0|\n",
            "|Observational Pos...|                    35921.0|\n",
            "|Antibiotic Prophy...|                    35000.0|\n",
            "|ONTARGET ONgoing ...|                    31546.0|\n",
            "+--------------------+---------------------------+\n",
            "only showing top 20 rows\n",
            "\n"
          ]
        }
      ],
      "source": [
        "clinicalDS.select(\"Trial ID\", \"Title\", \"Number of Participants\") \\\n",
        ".distinct() \\\n",
        ".filter(col(\"Number of Participants\")!=\"NaN\") \\\n",
        ".groupBy(\"Title\") \\\n",
        ".avg(\"Number of Participants\") \\\n",
        ".orderBy(desc(\"avg(Number of Participants)\")) \\\n",
        ".show()"
      ]
    },
    {
      "cell_type": "markdown",
      "metadata": {
        "id": "pJk0c57NtPc-"
      },
      "source": [
        "## **Objective N12: Countries with the highest average number of participants per study**\n",
        "\n",
        "In order to find The **Countries with the highest average number of participants per study** we selected the **Country of Sponsor/Collaborator, Trial ID and Number of Participants** Categories (exploding the Country of Sponsor/Collaborator list generated by the split function on the \";\" character in order to consider all the effective values) filterintg NaN values on **Number of Participants** field and calculating the average on it. Note: we used the *trim* function in order to remove the spaces between each word."
      ]
    },
    {
      "cell_type": "code",
      "execution_count": null,
      "metadata": {
        "colab": {
          "base_uri": "https://localhost:8080/"
        },
        "id": "gYpbpIijtTz3",
        "outputId": "104391ff-02db-4214-b419-73f85f8f5799"
      },
      "outputs": [
        {
          "output_type": "stream",
          "name": "stdout",
          "text": [
            "+--------------+--------------------+---------------------------+\n",
            "|      Trial ID|           Countries|avg(Number of Participants)|\n",
            "+--------------+--------------------+---------------------------+\n",
            "|ISRCTN91495258|            Slovenia|                  2400000.0|\n",
            "|ISRCTN91495258|      United Kingdom|                  2400000.0|\n",
            "|ISRCTN91495258|              France|                  2400000.0|\n",
            "|ISRCTN91495258|            Portugal|                  2400000.0|\n",
            "|ISRCTN91495258|             Ireland|                  2400000.0|\n",
            "|ISRCTN91495258|              Sweden|                  2400000.0|\n",
            "|ISRCTN91495258|             Hungary|                  2400000.0|\n",
            "|ISRCTN91495258|               Italy|                  2400000.0|\n",
            "|ISRCTN91495258|           Lithuania|                  2400000.0|\n",
            "|ISRCTN91495258|              Turkey|                  2400000.0|\n",
            "|ISRCTN91495258|         Netherlands|                  2400000.0|\n",
            "|ISRCTN91495258|              Latvia|                  2400000.0|\n",
            "|ISRCTN91495258|             Austria|                  2400000.0|\n",
            "|ISRCTN91495258|             Germany|                  2400000.0|\n",
            "|ISRCTN91495258|             Iceland|                  2400000.0|\n",
            "|ISRCTN91495258|               Malta|                  2400000.0|\n",
            "|ISRCTN91495258|               Spain|                  2400000.0|\n",
            "|    EUPAS39361|               Italy|                  1000000.0|\n",
            "|    EUPAS39361|             Denmark|                  1000000.0|\n",
            "|    EUPAS39361|             Germany|                  1000000.0|\n",
            "|    EUPAS39361|              France|                  1000000.0|\n",
            "|    EUPAS39361|               Spain|                  1000000.0|\n",
            "|    EUPAS39361|         Netherlands|                  1000000.0|\n",
            "|    EUPAS39361|      United Kingdom|                  1000000.0|\n",
            "|   NCT05925699|       United States|                   285600.0|\n",
            "|   NCT05925699|               Italy|                   285600.0|\n",
            "|   NCT02832245|              Greece|                   120000.0|\n",
            "|   NCT02832245|              Latvia|                   120000.0|\n",
            "|   NCT02832245|               Spain|                   120000.0|\n",
            "|   NCT02832245|             Belgium|                   120000.0|\n",
            "|   NCT02832245|       United States|                   120000.0|\n",
            "|   NCT02832245|              Brazil|                   120000.0|\n",
            "|   NCT02832245|     North Macedonia|                   120000.0|\n",
            "|   NCT02832245|            Portugal|                   120000.0|\n",
            "|   NCT02832245|             Ireland|                   120000.0|\n",
            "|   NCT02832245|              Israel|                   120000.0|\n",
            "|   NCT02832245|             Morocco|                   120000.0|\n",
            "|   NCT02832245|             Austria|                   120000.0|\n",
            "|   NCT02832245|             Czechia|                   120000.0|\n",
            "|   NCT02832245|              France|                   120000.0|\n",
            "|   NCT02832245|               Egypt|                   120000.0|\n",
            "|   NCT02832245|               Japan|                   120000.0|\n",
            "|   NCT02832245|             Vietnam|                   120000.0|\n",
            "|   NCT02832245|             Germany|                   120000.0|\n",
            "|   NCT02832245|           Argentina|                   120000.0|\n",
            "|   NCT02832245|      United Kingdom|                   120000.0|\n",
            "|   NCT02832245|            Colombia|                   120000.0|\n",
            "|   NCT02832245|             Ecuador|                   120000.0|\n",
            "|   NCT02832245|               Italy|                   120000.0|\n",
            "|   NCT02832245|            Honduras|                   120000.0|\n",
            "|   NCT02832245|               China|                   120000.0|\n",
            "|   NCT02832245|Iran, Islamic Rep...|                   120000.0|\n",
            "|   NCT02832245|                Iran|                   120000.0|\n",
            "|   NCT02832245|         Switzerland|                   120000.0|\n",
            "|     EUPAS5289|               Italy|                   115000.0|\n",
            "|   NCT05804188|       United States|                   105000.0|\n",
            "|   NCT05804188|             Germany|                   105000.0|\n",
            "|   NCT05804188|           Australia|                   105000.0|\n",
            "|   NCT05804188|              Canada|                   105000.0|\n",
            "|   NCT05804188|               Italy|                   105000.0|\n",
            "|   NCT05804188|         Switzerland|                   105000.0|\n",
            "|   NCT05339841|       United States|                    82800.0|\n",
            "|   NCT05339841|               Italy|                    82800.0|\n",
            "|   NCT02038491|               Italy|                    63692.0|\n",
            "|    EUPAS42504|         Switzerland|                    60000.0|\n",
            "|   NCT05151003|               Italy|                    60000.0|\n",
            "|    EUPAS42504|               Italy|                    60000.0|\n",
            "|    EUPAS42504|             Ireland|                    60000.0|\n",
            "|    EUPAS42504|            Slovakia|                    60000.0|\n",
            "|   NCT04590560|               Italy|                    60000.0|\n",
            "|    EUPAS42504|         Netherlands|                    60000.0|\n",
            "|   NCT01837693|               Italy|                    60000.0|\n",
            "|   NCT03672331|               Italy|                    53142.0|\n",
            "|   NCT03672331|              Israel|                    53142.0|\n",
            "|   NCT03672331|      United Kingdom|                    53142.0|\n",
            "|   NCT03672331|             Belgium|                    53142.0|\n",
            "|   NCT03672331|              France|                    53142.0|\n",
            "|   NCT03672331|               Spain|                    53142.0|\n",
            "|   NCT05649384|         South Korea|                    52156.0|\n",
            "|   NCT05649384|           Australia|                    52156.0|\n",
            "|   NCT05649384|              Greece|                    52156.0|\n",
            "|   NCT05649384|      United Kingdom|                    52156.0|\n",
            "|   NCT05649384|               Italy|                    52156.0|\n",
            "|   NCT05649384|             Romania|                    52156.0|\n",
            "|   NCT05649384|         Switzerland|                    52156.0|\n",
            "|   NCT05649384|             Finland|                    52156.0|\n",
            "|   NCT05649384|               Spain|                    52156.0|\n",
            "|   NCT05649384|             Austria|                    52156.0|\n",
            "|   NCT05649384|       United States|                    52156.0|\n",
            "|   NCT05057598|               Italy|                    50000.0|\n",
            "|   NCT05378529|         South Korea|                    39480.0|\n",
            "|   NCT05378529|           Australia|                    39480.0|\n",
            "|   NCT05378529|            Bulgaria|                    39480.0|\n",
            "|   NCT05378529|            Slovakia|                    39480.0|\n",
            "|   NCT05378529|         Switzerland|                    39480.0|\n",
            "|   NCT05378529|              Sweden|                    39480.0|\n",
            "|   NCT05378529|              Poland|                    39480.0|\n",
            "|   NCT05378529|             Romania|                    39480.0|\n",
            "|   NCT05378529|              Brazil|                    39480.0|\n",
            "|   NCT05378529|           Argentina|                    39480.0|\n",
            "+--------------+--------------------+---------------------------+\n",
            "only showing top 100 rows\n",
            "\n"
          ]
        }
      ],
      "source": [
        "clinicalDS.select(explode(split(\"Country of Sponsor/Collaborator\",\";\")).alias(\"Countries\"),\"Trial ID\", \"Number of Participants\") \\\n",
        ".distinct() \\\n",
        ".withColumn(\"Countries\", trim(col(\"Countries\"))) \\\n",
        ".filter((col(\"Countries\").isNotNull()) & (col(\"Countries\") != \"\")) \\\n",
        ".groupBy(\"Trial ID\", \"Countries\") \\\n",
        ".avg(\"Number of Participants\") \\\n",
        ".filter(col(\"avg(Number of Participants)\") != \"NaN\") \\\n",
        ".orderBy(desc(\"avg(Number of Participants)\")).show(100)"
      ]
    },
    {
      "cell_type": "markdown",
      "metadata": {
        "id": "UTuNXbY7h0yu"
      },
      "source": [
        "## **Objective N13: Find the 10 most popular cities of sponsor/collaborator per study type**\n",
        "\n",
        "In order to find The **10 most popular cities of sponsor/collaborator per study type** we selected the **City of Sponsor/Collaborator, Trial ID and Study Type** Categories (exploding the City of Sponsor/Collaborator list generated by the split function on the \";\" character in order to consider all the effective values) grouping by \"Study Type\" and **Collaborator_Cities** fields and counting the number of trials for each city."
      ]
    },
    {
      "cell_type": "code",
      "execution_count": null,
      "metadata": {
        "colab": {
          "base_uri": "https://localhost:8080/"
        },
        "id": "lsZdj0rll37f",
        "outputId": "d216a42c-73f9-4cd4-ae1a-1d400ec9c132"
      },
      "outputs": [
        {
          "output_type": "stream",
          "name": "stdout",
          "text": [
            "+--------------+-------------------+------------+\n",
            "|    Study Type|Collaborator_Cities|Numero_Prove|\n",
            "+--------------+-------------------+------------+\n",
            "|Interventional|              Milan|        2585|\n",
            "|Interventional|               Rome|        2080|\n",
            "|Interventional|          Barcelona|        2010|\n",
            "|Interventional|             Madrid|        1915|\n",
            "|Interventional|             London|        1751|\n",
            "|Interventional|              Paris|        1445|\n",
            "|Interventional|           New York|        1442|\n",
            "|Interventional|            Bologna|        1333|\n",
            "|Interventional|            Houston|        1115|\n",
            "|Interventional|             Naples|        1112|\n",
            "+--------------+-------------------+------------+\n",
            "only showing top 10 rows\n",
            "\n"
          ]
        }
      ],
      "source": [
        "clinicalDS.select(explode(split(\"City of Sponsor/Collaborator\", \"; \")).alias(\"Collaborator_Cities\"), \"Study Type\", \"Trial ID\") \\\n",
        ".distinct() \\\n",
        ".withColumn(\"Collaborator_Cities\", trim(col(\"Collaborator_Cities\"))) \\\n",
        ".filter((col(\"Collaborator_Cities\").isNotNull()) & (col(\"Collaborator_Cities\") != \"\")) \\\n",
        ".groupBy(\"Study Type\", \"Collaborator_Cities\") \\\n",
        ".agg(count(clinicalDS[\"Trial ID\"]).alias(\"Numero_Prove\")).orderBy(desc(\"Numero_Prove\")).show(10)\n"
      ]
    },
    {
      "cell_type": "markdown",
      "metadata": {
        "id": "g7cj3qPyi0l0"
      },
      "source": [
        "## **Objective N14: Find the clinical trial with the highest Altmetric Attention Score that started after July 10, 2013**\n",
        "\n",
        "In order to find The **the clinical trial with the highest Altmetric Attention Score that started after July 10, 2013** we selected the **Trial ID and Altmetric Attention Score** Categories, ordering by \"Altmetric Attention Score\" field and choosing two conditions for the *select* clause, according to the query."
      ]
    },
    {
      "cell_type": "code",
      "execution_count": null,
      "metadata": {
        "colab": {
          "base_uri": "https://localhost:8080/"
        },
        "id": "X0Ae9OoQtZd5",
        "outputId": "539b30a7-09ed-4338-b61b-e4b20b5d06d8"
      },
      "outputs": [
        {
          "output_type": "stream",
          "name": "stdout",
          "text": [
            "+-----------+-------------------------+\n",
            "|   Trial ID|Altmetric Attention Score|\n",
            "+-----------+-------------------------+\n",
            "|NCT04575597|                   1703.0|\n",
            "+-----------+-------------------------+\n",
            "\n"
          ]
        }
      ],
      "source": [
        "clinicalDS.select(\"Trial ID\", \"Altmetric Attention Score\") \\\n",
        ".orderBy(desc(clinicalDS[\"Altmetric Attention Score\"])) \\\n",
        ".where((clinicalDS[\"Start Date\"] > \"2013-07-10\") & (clinicalDS[\"Altmetric Attention Score\"]!=\"NaN\")) \\\n",
        ".limit(1).show()"
      ]
    },
    {
      "cell_type": "markdown",
      "metadata": {
        "id": "Y_xZEP2blWAv"
      },
      "source": [
        "## **Objective N15: Find the 5 most relevant (based on number of participants) trials per Cancer Types**\n",
        "\n",
        "In order to find The **the 5 most relevant (based on number of participants) trials per Cancer Types** we selected the **Cancer Types, Trial ID and Number of Participants** Categories (exploding the Cancer Types list generated by the split function on the \";\" character in order to consider all the effective values), ordering by \"Number of Participants\" field and filtering on \"Cancer Types\" and \"Number of Participants\" field to show the output properly."
      ]
    },
    {
      "cell_type": "code",
      "execution_count": null,
      "metadata": {
        "id": "1LSr8NtbvYCV",
        "colab": {
          "base_uri": "https://localhost:8080/"
        },
        "outputId": "2532aab7-ef4d-4aec-a767-f1118a5d3234"
      },
      "outputs": [
        {
          "output_type": "stream",
          "name": "stdout",
          "text": [
            "+--------------------+-----------+----------------------+\n",
            "|         Tipi_Cancro|   Trial ID|Number of Participants|\n",
            "+--------------------+-----------+----------------------+\n",
            "|Not Site-Specific...|NCT05339841|               82800.0|\n",
            "|Not Site-Specific...|NCT02038491|               63692.0|\n",
            "|       Breast Cancer|NCT04590560|               60000.0|\n",
            "|     Cervical Cancer|NCT01837693|               60000.0|\n",
            "|Genital System, F...|NCT01837693|               60000.0|\n",
            "+--------------------+-----------+----------------------+\n",
            "\n"
          ]
        }
      ],
      "source": [
        "clinicalDS.select(explode(split(\"Cancer Types\", \"; \")).alias(\"Tipi_Cancro\"), \"Trial ID\", \"Number of Participants\") \\\n",
        ".distinct() \\\n",
        ".withColumn(\"Tipi_Cancro\", trim(col(\"Tipi_Cancro\"))) \\\n",
        ".filter((col(\"Tipi_Cancro\").isNotNull()) & (col(\"Tipi_Cancro\") != \"\") & (col(\"Tipi_Cancro\") != \"NaN\")) \\\n",
        ".filter(col(\"Number of Participants\")!=\"NaN\") \\\n",
        ".orderBy(desc(clinicalDS[\"Number of Participants\"])).limit(5).show()"
      ]
    },
    {
      "cell_type": "markdown",
      "metadata": {
        "id": "QNGl0nEAmJ3w"
      },
      "source": [
        "## **Objective N16: Retrieve the start date and the completion year of the top 10 clinical trials that involve the \"AOUSSN_CAGLIARI\" AHC and with the highest Altmetric Attention Score per condition**\n",
        "\n",
        "In order to find The **start date, the completion year and studied conditions of the top 10 clinical trials that involve the \"AOUSSN_CAGLIARI\" AHC and with the highest Altmetric Attention Score** we selected the **Trial ID, Start Date, Completion Year, Conditions, AHC and Altmetric Attention Score** Categories, ordering by \"Altmetric Attention Score\" field, filtering on the same field and filtering on the \"AHC\" field to show the output properly."
      ]
    },
    {
      "cell_type": "code",
      "execution_count": null,
      "metadata": {
        "id": "Fw4S1iZc2RYY",
        "colab": {
          "base_uri": "https://localhost:8080/"
        },
        "outputId": "6fe1c391-116b-4d5f-f36e-c170fa9bae65"
      },
      "outputs": [
        {
          "output_type": "stream",
          "name": "stdout",
          "text": [
            "+--------------------+-----------+-------------------+---------------+--------------------+---------------+-------------------------+------------------------------+\n",
            "|          Conditions|   Trial ID|         Start Date|Completion Year|          Conditions|            AHC|Altmetric Attention Score|max(Altmetric Attention Score)|\n",
            "+--------------------+-----------+-------------------+---------------+--------------------+---------------+-------------------------+------------------------------+\n",
            "| G12c Mutated /Ad...|NCT04303780|2020-06-04 00:00:00|         2026.0| G12c Mutated /Ad...|AOUSSN_CAGLIARI|                    788.0|                         788.0|\n",
            "|              KRAS p|NCT04303780|2020-06-04 00:00:00|         2026.0|              KRAS p|AOUSSN_CAGLIARI|                    788.0|                         788.0|\n",
            "|     Crohn's Disease|NCT03466411|2018-04-13 00:00:00|         2030.0|     Crohn's Disease|AOUSSN_CAGLIARI|                    693.0|                         693.0|\n",
            "|      Hepatocellular|NCT04763408|2021-04-09 00:00:00|         2028.0|      Hepatocellular|AOUSSN_CAGLIARI|                    299.0|                         299.0|\n",
            "|           Carcinoma|NCT04763408|2021-04-09 00:00:00|         2028.0|           Carcinoma|AOUSSN_CAGLIARI|                    299.0|                         299.0|\n",
            "|Locally Advanced ...|NCT03764293|2019-06-10 00:00:00|         2023.0|Locally Advanced ...|AOUSSN_CAGLIARI|                    275.0|                         275.0|\n",
            "|           Psoriatic|NCT04929210|2021-08-30 00:00:00|         2026.0|           Psoriatic|AOUSSN_CAGLIARI|                    131.0|                         131.0|\n",
            "|           Arthritis|NCT04929210|2021-08-30 00:00:00|         2026.0|           Arthritis|AOUSSN_CAGLIARI|                    131.0|                         131.0|\n",
            "|   Atopic Dermatitis|NCT03607422|2018-07-27 00:00:00|         2025.0|   Atopic Dermatitis|AOUSSN_CAGLIARI|                     38.0|                          38.0|\n",
            "|             Biliary|NCT02308111|2014-12-26 00:00:00|         2021.0|             Biliary|AOUSSN_CAGLIARI|                     27.0|                          27.0|\n",
            "+--------------------+-----------+-------------------+---------------+--------------------+---------------+-------------------------+------------------------------+\n",
            "only showing top 10 rows\n",
            "\n"
          ]
        }
      ],
      "source": [
        "clinicalDS.select(\"Trial ID\",\"Start Date\", \"Completion Year\",explode(split(\"Conditions\",r\"[;,]+\")).alias(\"Conditions\"),\"AHC\", \"Altmetric Attention Score\") \\\n",
        ".distinct() \\\n",
        ".filter(col(\"Altmetric Attention Score\") != \"NaN\") \\\n",
        ".where(clinicalDS[\"AHC\"]==\"AOUSSN_CAGLIARI\") \\\n",
        ".groupBy(\"Conditions\",\"Trial ID\",\"Start Date\", \"Completion Year\",\"Conditions\",\"AHC\", \"Altmetric Attention Score\") \\\n",
        ".agg(max(clinicalDS[\"Altmetric Attention Score\"])) \\\n",
        ".orderBy(desc(\"max(Altmetric Attention Score)\")) \\\n",
        ".show(10)"
      ]
    },
    {
      "cell_type": "markdown",
      "metadata": {
        "id": "k5baEKkimzk3"
      },
      "source": [
        "## **Objective N17: Find all the clinical trials started after 2022 with at most 250 participants per Country**\n",
        "\n",
        "In order to find The **Find all the clinical trials started after 2022 with at most 250 participants and group by conditions** we added two columns: one for the minimum age for each trial and the second for the maximum age and we specified a regular expression to retrieve the numeric values properly. After that, we added one more column to show the differences between each maximum and minimum and finally we selected **Trial ID and diff_age** for the output, ordering on the \"diff_age\" field."
      ]
    },
    {
      "cell_type": "code",
      "execution_count": null,
      "metadata": {
        "colab": {
          "base_uri": "https://localhost:8080/"
        },
        "id": "ZgDH_41u9Vnb",
        "outputId": "62d0ea44-663d-4f52-ab1e-b385706f09ed"
      },
      "outputs": [
        {
          "output_type": "stream",
          "name": "stdout",
          "text": [
            "+---------------+------------+\n",
            "|          Paesi|Numero_Prove|\n",
            "+---------------+------------+\n",
            "|          Italy|          51|\n",
            "|  United States|          29|\n",
            "|  United States|          23|\n",
            "|          Spain|          22|\n",
            "|        Germany|          19|\n",
            "|         Canada|          18|\n",
            "|         France|          18|\n",
            "|         Poland|          15|\n",
            "|        Belgium|          14|\n",
            "| United Kingdom|          14|\n",
            "|      Australia|          13|\n",
            "|          Italy|          13|\n",
            "|    Netherlands|          13|\n",
            "|               |          13|\n",
            "|        Hungary|          12|\n",
            "|         Taiwan|          11|\n",
            "|         Israel|          11|\n",
            "|    Switzerland|          11|\n",
            "|        Austria|          11|\n",
            "|          Japan|          10|\n",
            "+---------------+------------+\n",
            "only showing top 20 rows\n",
            "\n"
          ]
        }
      ],
      "source": [
        "clinicalDS.select(\"Trial ID\",\"Start Year\", explode(split(\"Country of Sponsor/Collaborator\",r\"[;,]+\")).alias(\"Paesi\")) \\\n",
        ".distinct() \\\n",
        ".where((clinicalDS[\"Number of Participants\"]>=250) & (clinicalDS[\"Start Year\"]>\"2022\")) \\\n",
        ".groupBy(\"Paesi\") \\\n",
        ".agg(count(\"Trial ID\").alias(\"Numero_Prove\")) \\\n",
        ".orderBy(desc(\"Numero_Prove\")) \\\n",
        ".show()"
      ]
    },
    {
      "cell_type": "markdown",
      "metadata": {
        "id": "s6Sjl-_WnwcY"
      },
      "source": [
        "## **Objective N18: Find the most popular (by number of trials) Field of Research per country with at least 500 participants**\n",
        "\n",
        "In order to find The **most popular (by number of trials) Field of Research per country with at least 500 participants**, we created a window in order to create a partition on the \"Country of Sponsor/Collaborator\" (ordering by the number of trials) and we added one column in order to explode the **Fields of Research** field properly and one column for the **Country of Sponsor/Collaborator** (the process for this column is exactly the same we did for the first one). After that, we added one **where** clause on the \"Number of Participants\", we filtered on the same field to display the output properly. Finally grouped by the two newly columns and we counted (and ordered) on the number of trials."
      ]
    },
    {
      "cell_type": "code",
      "execution_count": null,
      "metadata": {
        "id": "uez7BlD0LrLV",
        "colab": {
          "base_uri": "https://localhost:8080/"
        },
        "outputId": "a1991864-a705-4927-9f0c-d0c5668fb141"
      },
      "outputs": [
        {
          "output_type": "stream",
          "name": "stdout",
          "text": [
            "+------------------+-----------------------------------+------------+\n",
            "|Paesi             |Campi_Ricerca                      |Numero_Prove|\n",
            "+------------------+-----------------------------------+------------+\n",
            "|United States     |32 Biomedical and Clinical Sciences|55467       |\n",
            "|Italy             |32 Biomedical and Clinical Sciences|15046       |\n",
            "|Germany           |32 Biomedical and Clinical Sciences|8909        |\n",
            "|Spain             |32 Biomedical and Clinical Sciences|8136        |\n",
            "|France            |32 Biomedical and Clinical Sciences|7857        |\n",
            "|Japan             |32 Biomedical and Clinical Sciences|6391        |\n",
            "|United Kingdom    |32 Biomedical and Clinical Sciences|5405        |\n",
            "|China             |32 Biomedical and Clinical Sciences|5131        |\n",
            "|Canada            |32 Biomedical and Clinical Sciences|4468        |\n",
            "|Poland            |32 Biomedical and Clinical Sciences|3976        |\n",
            "|Australia         |32 Biomedical and Clinical Sciences|3806        |\n",
            "|Belgium           |32 Biomedical and Clinical Sciences|2860        |\n",
            "|Brazil            |32 Biomedical and Clinical Sciences|2802        |\n",
            "|South Korea       |32 Biomedical and Clinical Sciences|2764        |\n",
            "|Netherlands       |32 Biomedical and Clinical Sciences|2416        |\n",
            "|Russian Federation|32 Biomedical and Clinical Sciences|2215        |\n",
            "|Israel            |32 Biomedical and Clinical Sciences|2057        |\n",
            "|Hungary           |32 Biomedical and Clinical Sciences|2030        |\n",
            "|Turkey            |32 Biomedical and Clinical Sciences|2027        |\n",
            "|Argentina         |32 Biomedical and Clinical Sciences|1988        |\n",
            "+------------------+-----------------------------------+------------+\n",
            "only showing top 20 rows\n",
            "\n"
          ]
        }
      ],
      "source": [
        "from pyspark.sql.window import Window\n",
        "from pyspark.sql.functions import row_number\n",
        "\n",
        "windowSpec = Window.partitionBy(\"Paesi\").orderBy(desc(\"Numero_Prove\"))\n",
        "\n",
        "clinicalDS.select(\"Fields of Research (ANZSRC 2020)\",\"Country of Sponsor/Collaborator\",\"Trial ID\") \\\n",
        ".distinct() \\\n",
        ".withColumn(\"Campi_Ricerca\", explode(split(\"Fields of Research (ANZSRC 2020)\",r\"[;,]+\"))) \\\n",
        ".withColumn(\"Paesi\", explode(split(\"Country of Sponsor/Collaborator\",\";\"))) \\\n",
        ".where(clinicalDS[\"Number of Participants\"]>=500) \\\n",
        ".withColumn(\"Paesi\",trim(col(\"Paesi\"))) \\\n",
        ".filter(col(\"Number of Participants\")!=\"NaN\") \\\n",
        ".filter((col(\"Paesi\") != \"\") & (col(\"Campi_Ricerca\") != \"\")) \\\n",
        ".groupBy(\"Paesi\", \"Campi_Ricerca\") \\\n",
        ".agg(count(\"Trial ID\").alias(\"Numero_Prove\")) \\\n",
        ".withColumn(\"rank\", row_number().over(windowSpec)) \\\n",
        ".filter(col(\"rank\") == 1) \\\n",
        ".orderBy(desc(\"Numero_Prove\")) \\\n",
        ".drop(\"rank\") \\\n",
        ".show(truncate=False)"
      ]
    },
    {
      "cell_type": "markdown",
      "source": [
        "## **Objective N19: Find the most popular cities with a recruitment status different from \"Completed\" that have a completion year after 2027, grouping by Study Type**\n",
        "\n",
        "In order to find The **the most popular cities with a recruitment status different from \"Completed\" that have a completion year after 2027, grouping by Study Type** we selected the **Trial ID, Completion Year, Study Type and City of Sponsor/Collaborator** Categories (exploding the _City of Sponsor/Collaborator_ list generated by the split function on the \";\" character in order to consider all the effective values), grouping by \"\"Study Type\", \"Completion Year\", \"Trial ID\"\" fields and ordering by the number of trials."
      ],
      "metadata": {
        "id": "nayIlDg-n7lT"
      }
    },
    {
      "cell_type": "code",
      "source": [
        "clinicalDS.select(\"Trial ID\",explode(split(\"City of Sponsor/Collaborator\",r\"[;,]+\").alias(\"Cities\")),\"Completion Year\",\"Study Type\") \\\n",
        ".distinct() \\\n",
        ".where((clinicalDS[\"Recruitment Status\"]!=\"Completed\") & (clinicalDS[\"Completion Year\"]>2027)) \\\n",
        ".groupBy(\"Study Type\", \"Completion Year\", \"Trial ID\") \\\n",
        ".agg(count(\"Trial ID\").alias(\"Numero_Prove\")) \\\n",
        ".orderBy(desc(\"Numero_Prove\")) \\\n",
        ".show()"
      ],
      "metadata": {
        "colab": {
          "base_uri": "https://localhost:8080/"
        },
        "id": "JwyIslNbn8rS",
        "outputId": "8cb25fc8-bee2-4be0-fc88-7107e75c5e12"
      },
      "execution_count": null,
      "outputs": [
        {
          "output_type": "stream",
          "name": "stdout",
          "text": [
            "+--------------+---------------+-----------+------------+\n",
            "|    Study Type|Completion Year|   Trial ID|Numero_Prove|\n",
            "+--------------+---------------+-----------+------------+\n",
            "|Interventional|         2029.0|NCT04173273|         378|\n",
            "| Observational|         2030.0|NCT01848561|         372|\n",
            "|Interventional|         2041.0|NCT04852887|         351|\n",
            "|Interventional|         2028.0|NCT03398135|         331|\n",
            "|Interventional|         2030.0|NCT05242471|         295|\n",
            "|Interventional|         2029.0|NCT05242484|         258|\n",
            "|Interventional|         2028.0|NCT04524611|         242|\n",
            "|Interventional|         2030.0|NCT04035005|         169|\n",
            "|Interventional|         2030.0|NCT03568318|         166|\n",
            "|Interventional|         2030.0|NCT05578976|         165|\n",
            "|Interventional|         2028.0|NCT02308085|         164|\n",
            "|Interventional|         2029.0|NCT04595565|         150|\n",
            "|Interventional|         2028.0|NCT01844986|         147|\n",
            "|Interventional|         2029.0|NCT04548999|         138|\n",
            "| Observational|         2028.0|NCT02130362|         121|\n",
            "|Interventional|         2028.0|NCT04544436|         113|\n",
            "|Interventional|         2031.0|NCT04396574|         112|\n",
            "|Interventional|         2029.0|NCT04396236|         109|\n",
            "|Interventional|         2028.0|NCT03643276|         108|\n",
            "|Interventional|            NaN|NCT00054626|         102|\n",
            "+--------------+---------------+-----------+------------+\n",
            "only showing top 20 rows\n",
            "\n"
          ]
        }
      ]
    },
    {
      "cell_type": "markdown",
      "source": [
        "## **Objective N20: Find the 5 top AHCs that have sponsored the most number of trials about Pneumonia condition since 2020**\n",
        "\n",
        "In order to find **the 5 top AHCs that have sponsored the most number of trials about polmonite since 2020** we selected the **AHC, Trial ID, Conditions and Start Year** Categories (exploding the _Conditions_ list generated by the split function on the \";\" character in order to consider all the effective values). After that, we detemined a _where_ clause on \"Conditions\" and \"Start Year\" in order to display the proper output and grouping by \"AHC\", \"Conditions\", \"Start Year\" fields and ordering by the number of trials. Finally, we limited the output to only 5 entries of the dataset."
      ],
      "metadata": {
        "id": "2XMGc6PhpeDr"
      }
    },
    {
      "cell_type": "code",
      "source": [
        "clinicalDS.select(\"AHC\",\"Trial ID\",explode(split(\"Conditions\",r\"[;,]+\")).alias(\"Conditions\"), \"Start Year\") \\\n",
        ".distinct() \\\n",
        ".where((col(\"Conditions\")==\"Pneumonia\") & (col(\"Start Year\")>=2020)) \\\n",
        ".groupBy(\"AHC\", \"Conditions\", \"Start Year\") \\\n",
        ".agg(count(\"Trial ID\").alias(\"Numero_Prove\")) \\\n",
        ".orderBy(desc(\"Numero_Prove\")) \\\n",
        ".limit(5) \\\n",
        ".show()"
      ],
      "metadata": {
        "colab": {
          "base_uri": "https://localhost:8080/"
        },
        "id": "wveB-cSzpgy5",
        "outputId": "f76ed728-5d1c-4425-84b6-313a060e50d2"
      },
      "execution_count": null,
      "outputs": [
        {
          "output_type": "stream",
          "name": "stdout",
          "text": [
            "+----------------+----------+----------+------------+\n",
            "|             AHC|Conditions|Start Year|Numero_Prove|\n",
            "+----------------+----------+----------+------------+\n",
            "|IRCCS_SANGERARDO| Pneumonia|    2021.0|           1|\n",
            "|IRCCS_SANTORSOLA| Pneumonia|    2021.0|           1|\n",
            "| AOUSSN_UMBERTOI| Pneumonia|    2021.0|           1|\n",
            "|IRCCS_SANMARTINO| Pneumonia|    2021.0|           1|\n",
            "+----------------+----------+----------+------------+\n",
            "\n"
          ]
        }
      ]
    }
  ]
}