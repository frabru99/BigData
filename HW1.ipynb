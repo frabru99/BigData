{
  "nbformat": 4,
  "nbformat_minor": 0,
  "metadata": {
    "colab": {
      "provenance": []
    },
    "kernelspec": {
      "name": "python3",
      "display_name": "Python 3"
    },
    "language_info": {
      "name": "python"
    }
  },
  "cells": [
    {
      "cell_type": "markdown",
      "source": [
        "# Homework 1 - Francesco Brunello (M63001655), Antonio Boccarossa (M63001643)\n",
        "\n",
        "---\n",
        "\n"
      ],
      "metadata": {
        "id": "GOKsRLiOcd26"
      }
    },
    {
      "cell_type": "markdown",
      "source": [
        "# Introduction to Clinical Trials\n",
        "Clinical trials are scientific studies conducted on human subjects to evaluate\n",
        "the safety and effectiveness of medical treatments, drugs, devices, or procedures.\n",
        "Each trial follows a defined protocol and may span several phases (Phase I, II,\n",
        "III, IV), sometimes involving thousands of participants across multiple countries.\n",
        "\n",
        "# The Dataset\n",
        "The dataset used in this exercise comes from Dimensions.ai, a platform that\n",
        "aggregates data on global scientific research. Each row in the dataset represents\n",
        "a clinical trial; informations about the columns can be found in the provided\n",
        "legend.csv file.\n",
        "Some columns contain nested or structured data, such as lists of conditions,\n",
        "organizations, or locations.\n",
        "\n",
        "# Task\n",
        "Perform at least five analytics using PySpark on the provided clinical trials\n",
        "dataset. The results must be compiled and presented in a structured PDF\n",
        "report. For each analysis, the report should include the following components:\n",
        "\n",
        "\n",
        "*   Objective: The goal of the analysis.\n",
        "*   Description: A brief description of the methodology used.\n",
        "*   Code: The PySpark code used to perform the analysis.\n",
        "\n",
        "Include analyses of varying complexity, from basic aggregations to more\n",
        "complex operations."
      ],
      "metadata": {
        "id": "00JYedWdfhQF"
      }
    },
    {
      "cell_type": "markdown",
      "source": [
        "### Dependencies\n",
        "*Installing pyspark dependencies.*"
      ],
      "metadata": {
        "id": "kU8pN3UFiQ6d"
      }
    },
    {
      "cell_type": "code",
      "source": [
        "# Run below commands in google colab\n",
        "# install Java8\n",
        "!apt-get install openjdk-8-jdk-headless -qq > /dev/null\n",
        "# download spark3.0.0\n",
        "!wget -q http://apache.osuosl.org/spark/spark-3.5.5/spark-3.5.5-bin-hadoop3.tgz\n",
        "# unzip it\n",
        "!tar xf spark-3.5.5-bin-hadoop3.tgz\n",
        "# install findspark\n",
        "!pip install -q findspark"
      ],
      "metadata": {
        "id": "UYYEBLuOiOzB"
      },
      "execution_count": null,
      "outputs": []
    },
    {
      "cell_type": "markdown",
      "source": [
        "### Spark Context and Session\n",
        "*Creating Spark Context and Session in order to use pyspark.sql utilities*"
      ],
      "metadata": {
        "id": "JxWWaBMvivH7"
      }
    },
    {
      "cell_type": "code",
      "source": [
        "import os\n",
        "os.environ[\"JAVA_HOME\"] = \"/usr/lib/jvm/java-8-openjdk-amd64\"\n",
        "os.environ[\"SPARK_HOME\"] = \"/content/spark-3.4.2-bin-hadoop3\""
      ],
      "metadata": {
        "id": "NIgvYIr3iPos"
      },
      "execution_count": null,
      "outputs": []
    },
    {
      "cell_type": "code",
      "source": [
        "# Verify the Spark version running on the virtual cluster\n",
        "import pyspark as ps\n",
        "from pyspark.context import SparkContext\n",
        "sc = SparkContext.getOrCreate()\n",
        "\n",
        "assert  \"3.\" in sc.version, \"Verify that the cluster Spark's version is 3.x\""
      ],
      "metadata": {
        "id": "6RdAEzeciskW"
      },
      "execution_count": null,
      "outputs": []
    },
    {
      "cell_type": "code",
      "source": [
        "from pyspark.sql import SparkSession\n",
        "spark = SparkSession(sc)\n",
        "print(spark)"
      ],
      "metadata": {
        "colab": {
          "base_uri": "https://localhost:8080/"
        },
        "id": "-UNcgpk4i47W",
        "outputId": "92930059-7f43-430c-e97d-552022f5c16b"
      },
      "execution_count": null,
      "outputs": [
        {
          "output_type": "stream",
          "name": "stdout",
          "text": [
            "<pyspark.sql.session.SparkSession object at 0x7924f1982c90>\n"
          ]
        }
      ]
    },
    {
      "cell_type": "markdown",
      "source": [
        "### Reading the Dataset"
      ],
      "metadata": {
        "id": "Soxz3xyZTNn4"
      }
    },
    {
      "cell_type": "markdown",
      "source": [
        "*The given dataset is composed by various data entries related to clinical trials and it's composed by 15999 rows and 38 columns.*"
      ],
      "metadata": {
        "id": "UYAit81chtrb"
      }
    },
    {
      "cell_type": "code",
      "source": [
        "import pandas as pd\n",
        "df = pd.read_excel(\"dimensions_clinicalTrials.xlsx\")\n",
        "clinicalDS = spark.createDataFrame(df)\n",
        "# printSchema shows the names and types of columns\n",
        "clinicalDS.printSchema()"
      ],
      "metadata": {
        "colab": {
          "base_uri": "https://localhost:8080/"
        },
        "id": "eFHrkChbjTCd",
        "outputId": "3ba92eed-50ad-4707-fdb5-27f385a503f9"
      },
      "execution_count": null,
      "outputs": [
        {
          "output_type": "stream",
          "name": "stdout",
          "text": [
            "root\n",
            " |-- Rank: long (nullable = true)\n",
            " |-- Trial ID: string (nullable = true)\n",
            " |-- Title: string (nullable = true)\n",
            " |-- Brief title: string (nullable = true)\n",
            " |-- Acronym: string (nullable = true)\n",
            " |-- Abstract: string (nullable = true)\n",
            " |-- Start date: timestamp (nullable = true)\n",
            " |-- Start Year: double (nullable = true)\n",
            " |-- End Date: timestamp (nullable = true)\n",
            " |-- Completion Year: double (nullable = true)\n",
            " |-- Phase: string (nullable = true)\n",
            " |-- Study Type: string (nullable = true)\n",
            " |-- Study Design: string (nullable = true)\n",
            " |-- Conditions: string (nullable = true)\n",
            " |-- Recruitment Status: string (nullable = true)\n",
            " |-- Number of Participants: double (nullable = true)\n",
            " |-- Intervention: string (nullable = true)\n",
            " |-- Gender: string (nullable = true)\n",
            " |-- Age: string (nullable = true)\n",
            " |-- Registry: string (nullable = true)\n",
            " |-- Investigators/Contacts: string (nullable = true)\n",
            " |-- Sponsors/Collaborators: string (nullable = true)\n",
            " |-- City of Sponsor/Collaborator: string (nullable = true)\n",
            " |-- State of Sponsor/Collaborator: string (nullable = true)\n",
            " |-- Country of Sponsor/Collaborator: string (nullable = true)\n",
            " |-- Collaborating Funders: string (nullable = true)\n",
            " |-- Funder Group: string (nullable = true)\n",
            " |-- Funder Country: string (nullable = true)\n",
            " |-- Source Linkout: string (nullable = true)\n",
            " |-- Altmetric Attention Score: double (nullable = true)\n",
            " |-- Dimensions URL: string (nullable = true)\n",
            " |-- Fields of Research (ANZSRC 2020): string (nullable = true)\n",
            " |-- RCDC Categories: string (nullable = true)\n",
            " |-- HRCS HC Categories: string (nullable = true)\n",
            " |-- HRCS RAC Categories: string (nullable = true)\n",
            " |-- Cancer Types: string (nullable = true)\n",
            " |-- CSO Categories: string (nullable = true)\n",
            " |-- AHC: string (nullable = true)\n",
            "\n"
          ]
        }
      ]
    },
    {
      "cell_type": "markdown",
      "source": [
        "### **Objective N1: Fin the number of studies started per year.**\n",
        "\n",
        "\n"
      ],
      "metadata": {
        "id": "D-amqPJkjr0S"
      }
    },
    {
      "cell_type": "markdown",
      "source": [
        "In order to find the ***The number of studies started per year*** we grouped the rows by the column 'Start Year', counted the different studies identified by Trial ID for each year and sorted the result by the count, filtering NaN Start Year values."
      ],
      "metadata": {
        "id": "FULUoP3XTiUc"
      }
    },
    {
      "cell_type": "code",
      "source": [
        "from pyspark.sql.functions import count , desc\n",
        "\n",
        "clinicalDS.groupBy('Start Year') \\\n",
        ".agg(count('`Trial ID`') \\\n",
        ".alias('Number of Studies')) \\\n",
        ".orderBy(desc('Number of Studies')) \\\n",
        ".where(clinicalDS['Start Year'] != \"NaN\").show(40)"
      ],
      "metadata": {
        "colab": {
          "base_uri": "https://localhost:8080/"
        },
        "id": "og_tyf98luBW",
        "outputId": "f34fc54c-5ac3-4855-86f8-d6626b0edef4"
      },
      "execution_count": null,
      "outputs": [
        {
          "output_type": "stream",
          "name": "stdout",
          "text": [
            "+----------+-----------------+\n",
            "|Start Year|Number of Studies|\n",
            "+----------+-----------------+\n",
            "|    2021.0|             1460|\n",
            "|    2020.0|             1438|\n",
            "|    2019.0|             1321|\n",
            "|    2018.0|             1207|\n",
            "|    2022.0|             1151|\n",
            "|    2017.0|             1146|\n",
            "|    2016.0|              850|\n",
            "|    2015.0|              841|\n",
            "|    2013.0|              784|\n",
            "|    2014.0|              767|\n",
            "|    2012.0|              687|\n",
            "|    2023.0|              673|\n",
            "|    2011.0|              616|\n",
            "|    2010.0|              502|\n",
            "|    2008.0|              468|\n",
            "|    2009.0|              465|\n",
            "|    2007.0|              344|\n",
            "|    2006.0|              268|\n",
            "|    2005.0|              206|\n",
            "|    2004.0|              165|\n",
            "|    2001.0|               96|\n",
            "|    2024.0|               88|\n",
            "|    2003.0|               88|\n",
            "|    2002.0|               84|\n",
            "|    2000.0|               64|\n",
            "|    1998.0|               26|\n",
            "|    1994.0|               26|\n",
            "|    1999.0|               26|\n",
            "|    1993.0|               25|\n",
            "|    1997.0|               16|\n",
            "|    1995.0|               16|\n",
            "|    1996.0|               10|\n",
            "|    1991.0|               10|\n",
            "|    1988.0|                4|\n",
            "|    1992.0|                3|\n",
            "|    2025.0|                2|\n",
            "|    1987.0|                1|\n",
            "|    1989.0|                1|\n",
            "+----------+-----------------+\n",
            "\n"
          ]
        }
      ]
    },
    {
      "cell_type": "markdown",
      "source": [
        "### **Objective N2: Find the Top 10 most frequent medical conditions in all clinical trials**"
      ],
      "metadata": {
        "id": "O-1F5ut8v3Ss"
      }
    },
    {
      "cell_type": "markdown",
      "source": [
        "In order to find ***The Top 10 most frequent medical conditions in all clinical trials*** we grouped the rows by the 'Conditions' field, counted and sorted all of them to find the results, filtering the NaN values.\n",
        "\n",
        "\n",
        "\n",
        "\n"
      ],
      "metadata": {
        "id": "loZkvCcuU7xZ"
      }
    },
    {
      "cell_type": "code",
      "source": [
        "clinicalDS.groupBy('Conditions') \\\n",
        ".agg(count('Conditions').alias('Entries')) \\\n",
        ".orderBy(desc('Entries')).where(clinicalDS['Conditions'] != \"NaN\").show(10)"
      ],
      "metadata": {
        "colab": {
          "base_uri": "https://localhost:8080/"
        },
        "id": "HGco32AKw4aX",
        "outputId": "0b3a4e24-324b-41f4-e571-826c728a5773"
      },
      "execution_count": null,
      "outputs": [
        {
          "output_type": "stream",
          "name": "stdout",
          "text": [
            "+--------------------+-------+\n",
            "|          Conditions|Entries|\n",
            "+--------------------+-------+\n",
            "|       Breast Cancer|    281|\n",
            "|    Multiple Myeloma|    179|\n",
            "|      Ovarian Cancer|    126|\n",
            "|            Melanoma|    118|\n",
            "|  Ulcerative Colitis|    112|\n",
            "|Acute Myeloid Leu...|    106|\n",
            "|            Leukemia|    102|\n",
            "|Carcinoma, Non-Sm...|    101|\n",
            "| Follicular Lymphoma|     92|\n",
            "|Metastatic Colore...|     90|\n",
            "+--------------------+-------+\n",
            "only showing top 10 rows\n",
            "\n"
          ]
        }
      ]
    },
    {
      "cell_type": "markdown",
      "source": [
        "### **Objective N3: Find the Top 10 Funder Countries that financied the most relevant studies in terms of total Altmetric Attention Score.**"
      ],
      "metadata": {
        "id": "xVbOvlhE3mXB"
      }
    },
    {
      "cell_type": "markdown",
      "source": [
        "In order to find ***The Top 10 Funder Countries that financied the most relevant studies in terms of total Altmetric Attention Score*** we selected all the Countries (exploding the list generated by the split function on the \";\" character in order to consider all the effective values of Funder Countries) and Altmetric Attention Score, filtering the NaN values, grouping by Countries and ordering the resultant rows by the total amount of the Total Altmetric Attention Score per Country.\n"
      ],
      "metadata": {
        "id": "OHRdVtQpWL5M"
      }
    },
    {
      "cell_type": "code",
      "source": [
        "from pyspark.sql.functions import explode, split, trim, sum, col\n",
        "\n",
        "clinicalDS.select(explode(split('Funder Country', \";\")).alias('Countries'), 'Altmetric Attention Score') \\\n",
        ".withColumn('Countries', trim(col(\"Countries\"))) \\\n",
        ".filter(col('Altmetric Attention Score') != \"NaN\")\\\n",
        ".filter(col('Countries') != \"NaN\")\\\n",
        ".groupBy('Countries')\\\n",
        ".agg(sum('Altmetric Attention Score').alias('Total Altmetric Attention Score'))\\\n",
        ".orderBy(desc('Total Altmetric Attention Score')) \\\n",
        ".show(10)"
      ],
      "metadata": {
        "colab": {
          "base_uri": "https://localhost:8080/"
        },
        "id": "Pes4GjlzsqI7",
        "outputId": "8cd8a208-e75b-40af-c8a1-301eecf36986"
      },
      "execution_count": null,
      "outputs": [
        {
          "output_type": "stream",
          "name": "stdout",
          "text": [
            "+--------------+-------------------------------+\n",
            "|     Countries|Total Altmetric Attention Score|\n",
            "+--------------+-------------------------------+\n",
            "| United States|                       263844.0|\n",
            "|         Japan|                        64930.0|\n",
            "|       Germany|                        37015.0|\n",
            "|United Kingdom|                        19507.0|\n",
            "|        France|                         5281.0|\n",
            "|   Switzerland|                         4513.0|\n",
            "|         Italy|                         2744.0|\n",
            "|       Belgium|                         1386.0|\n",
            "|        Canada|                          675.0|\n",
            "|       Finland|                          347.0|\n",
            "+--------------+-------------------------------+\n",
            "only showing top 10 rows\n",
            "\n"
          ]
        }
      ]
    },
    {
      "cell_type": "markdown",
      "source": [
        "### **Objective N4: Find the Top 5 research fields with most clinic trials.**"
      ],
      "metadata": {
        "id": "SHg572syhk8J"
      }
    },
    {
      "cell_type": "markdown",
      "source": [
        "In order to find ***The Top 5 fields of the research with most clinic trials*** we selected all the Fields of Research (exploding the list generated by the split function on the \";\" character in order to consider all the effective values of Reasearch Fields) filtering the NaN values. Also, we grouped on the Research Field in order to count them finding the most relevant Count of trials for each Research Field."
      ],
      "metadata": {
        "id": "bdQeGqC-YI4O"
      }
    },
    {
      "cell_type": "code",
      "source": [
        "clinicalDS.select(explode(split('Fields of Research (ANZSRC 2020)', \";\")).alias('Research Field')) \\\n",
        ".withColumn('Research Field', trim(col(\"Research Field\"))) \\\n",
        ".filter(col('Research Field') != \"NaN\") \\\n",
        ".groupBy('Research Field') \\\n",
        ".agg(count(col('Research Field')).alias('Count of trials')) \\\n",
        ".orderBy(desc('Count of trials')) \\\n",
        ".show(5, truncate=False)"
      ],
      "metadata": {
        "colab": {
          "base_uri": "https://localhost:8080/"
        },
        "id": "tH9GsOL90AXa",
        "outputId": "55fa5ef6-0b3b-4afc-d643-89c2cb3087db"
      },
      "execution_count": null,
      "outputs": [
        {
          "output_type": "stream",
          "name": "stdout",
          "text": [
            "+--------------------------------------------+---------------+\n",
            "|Research Field                              |Count of trials|\n",
            "+--------------------------------------------+---------------+\n",
            "|32 Biomedical and Clinical Sciences         |15279          |\n",
            "|3202 Clinical Sciences                      |7808           |\n",
            "|3211 Oncology and Carcinogenesis            |6081           |\n",
            "|3201 Cardiovascular Medicine and Haematology|1867           |\n",
            "|42 Health Sciences                          |1364           |\n",
            "+--------------------------------------------+---------------+\n",
            "only showing top 5 rows\n",
            "\n"
          ]
        }
      ]
    },
    {
      "cell_type": "markdown",
      "source": [
        "### **Objective N5: Find the longest Phase 3 of Clinical Trials in term of expected or actual years.**\n",
        "\n",
        "\n"
      ],
      "metadata": {
        "id": "vwAAbRgcijVN"
      }
    },
    {
      "cell_type": "markdown",
      "source": [
        "In order to find ***The longest Phase 3 of Clinical Trials in term of expected or actual years*** we created a new column called 'Years' filling it with the difference between 'Completion Year' and 'Start Year' (previously filtered to avoid NaN values). In addition, we selected the appropriate fields, filtering the output on 'Phase' field and ordering all by 'Years' field."
      ],
      "metadata": {
        "id": "uzJHnfLWalzs"
      }
    },
    {
      "cell_type": "code",
      "source": [
        "clinicalDS.filter(col('Completion Year') != 'NaN') \\\n",
        ".filter(col('Start Year') != 'NaN') \\\n",
        ".withColumn('Years', col('Completion Year') - col('Start Year')) \\\n",
        ".select('Trial ID', 'Abstract', 'Years', 'Completion Year', 'Start Year') \\\n",
        ".where(col('Phase') == 'Phase 3') \\\n",
        ".distinct() \\\n",
        ".orderBy(desc('Years')) \\\n",
        ".show(2)"
      ],
      "metadata": {
        "colab": {
          "base_uri": "https://localhost:8080/"
        },
        "id": "FnyZcZqG2s6V",
        "outputId": "dfa2482b-c93e-42af-a2ba-889fb50e59eb"
      },
      "execution_count": null,
      "outputs": [
        {
          "output_type": "stream",
          "name": "stdout",
          "text": [
            "+-----------+--------------------+-----+---------------+----------+\n",
            "|   Trial ID|            Abstract|Years|Completion Year|Start Year|\n",
            "+-----------+--------------------+-----+---------------+----------+\n",
            "|NCT00070564|RATIONALE: Drugs ...| 24.0|         2027.0|    2003.0|\n",
            "|NCT01704716|This is a randomi...| 24.0|         2026.0|    2002.0|\n",
            "+-----------+--------------------+-----+---------------+----------+\n",
            "only showing top 2 rows\n",
            "\n"
          ]
        }
      ]
    },
    {
      "cell_type": "markdown",
      "source": [
        "### **Objective N6: Find the most frequent HRCS HC Categories of study per gender (All, Female, Male), studied between 2005 and 2021 ordered by the sum of the Altmetric Attention Score of the related clinical trials.**\n",
        "\n",
        "\n"
      ],
      "metadata": {
        "id": "qViR9dKbjNJ5"
      }
    },
    {
      "cell_type": "markdown",
      "source": [
        "In order to find ***The most frequent HRCS HC Categories of study per gender (All, Female, Male), studied between 2005 and 2021 ordered by the sum of the Altmetric Attention Score of the related clinical trials*** we created a Window object in order to partitition the final output by the Gender besed on the rank assigned by the row_number function. This function, associates a \"rank\" value based on the Total Attention Score assumed by that istance.\n",
        "\n",
        "In the query, we selected the HRCS HC Categories (exploding the list generated by the split function on the \";\" character in order to consider all the effective values of HRCS HC Categories field), filtering the data by years and removing the NaN values. Also, we grouped the data by Gender and Categories, in order to execute the sum of the AASs values and find the first ranked row for each gender."
      ],
      "metadata": {
        "id": "FgBouG5siuwi"
      }
    },
    {
      "cell_type": "code",
      "source": [
        "from pyspark.sql.window import Window\n",
        "from pyspark.sql.functions import row_number\n",
        "\n",
        "windowSpec = Window.partitionBy(\"Gender\").orderBy(desc(\"Total Attention Score\")) #Partizioniamo in base al genere e ordiniamo in base al Total Attention Score\n",
        "\n",
        "results = clinicalDS.select(explode(split('HRCS HC Categories', ';')).alias('Categories'), 'Gender', 'Altmetric Attention Score') \\\n",
        ".withColumn('Categories', trim(col('Categories'))) \\\n",
        ".filter(col('Categories')!= 'NaN') \\\n",
        ".filter(col('Gender') != 'NaN') \\\n",
        ".filter(col('Altmetric Attention Score') != 'NaN') \\\n",
        ".filter(col('Start Year')> 2004) \\\n",
        ".filter(col('Completion Year')< 2022) \\\n",
        ".groupBy('Gender', 'Categories' ) \\\n",
        ".agg(sum('Altmetric Attention Score').alias('Total Attention Score')) \\\n",
        ".orderBy(desc('Total Attention Score')) \\\n",
        ".withColumn(\"rank\", row_number().over(windowSpec)) \\\n",
        ".filter(col(\"rank\") == 1) \\\n",
        ".drop(\"rank\") \\\n",
        ".show()\n"
      ],
      "metadata": {
        "colab": {
          "base_uri": "https://localhost:8080/"
        },
        "id": "8X_IZemc6_kJ",
        "outputId": "52492fd1-780b-4708-c144-93541645cca2"
      },
      "execution_count": null,
      "outputs": [
        {
          "output_type": "stream",
          "name": "stdout",
          "text": [
            "+------+----------+---------------------+\n",
            "|Gender|Categories|Total Attention Score|\n",
            "+------+----------+---------------------+\n",
            "|   All|    Cancer|              30848.0|\n",
            "|Female|    Cancer|               2237.0|\n",
            "|  Male|    Cancer|                174.0|\n",
            "+------+----------+---------------------+\n",
            "\n"
          ]
        }
      ]
    },
    {
      "cell_type": "markdown",
      "source": [
        "### **Objective N7: Find the Top 10 AHC involved in Mental Health Category clinical trials with more than 100 participants.**\n"
      ],
      "metadata": {
        "id": "jIwLgs3bmtIc"
      }
    },
    {
      "cell_type": "markdown",
      "source": [
        "In order to find ***The Top 10 AHC involved in Mental Health category clinical trials with more then 100 participants*** we selected the HRCS HS Categories (exploding the list generated by the split function on the \";\" character in order to consider all the effective values of HRCS HS Categories) filterintg NaN values and finding only the rows with 'Mental Health' category. We also filtered the data by the Number of Partecipants, grouped by AHC values and ordered by Number of trails in order to show the right output."
      ],
      "metadata": {
        "id": "awhRN3fpcA2I"
      }
    },
    {
      "cell_type": "code",
      "source": [
        "clinicalDS.select('AHC', explode(split('HRCS HC Categories', ';')).alias('HRCS HC Categories Splitted') ) \\\n",
        ".withColumn('HRCS HC Categories Splitted', trim(col('HRCS HC Categories Splitted'))) \\\n",
        ".filter(col('HRCS HC Categories Splitted') != 'NaN') \\\n",
        ".filter(col('HRCS HC Categories Splitted') == 'Mental health') \\\n",
        ".filter(col('Number of Participants') > 100) \\\n",
        ".groupBy('AHC')\\\n",
        ".agg(count('AHC').alias('Number of trials')) \\\n",
        ".orderBy(desc('Number of trials')) \\\n",
        ".show(10, truncate=False)"
      ],
      "metadata": {
        "colab": {
          "base_uri": "https://localhost:8080/"
        },
        "id": "Vq41lB_799p7",
        "outputId": "a2669c7b-51f4-4a08-d47a-4afdb1e8d436"
      },
      "execution_count": null,
      "outputs": [
        {
          "output_type": "stream",
          "name": "stdout",
          "text": [
            "+---------------------+----------------+\n",
            "|AHC                  |Number of trials|\n",
            "+---------------------+----------------+\n",
            "|IRCCS_CAGRANDA       |8               |\n",
            "|AOU_SENESE           |7               |\n",
            "|AOU_CITTADELLASCIENZA|6               |\n",
            "|AOUSSN_GMARTINO      |6               |\n",
            "|AOU_CAREGGI          |5               |\n",
            "|IRCCS_BURLOGAROFOLO  |5               |\n",
            "|AOU_VERONA           |4               |\n",
            "|AOU_PISANA           |3               |\n",
            "|AOU_GONZAGA          |3               |\n",
            "|AOUSSN_FEDERICOII    |3               |\n",
            "+---------------------+----------------+\n",
            "only showing top 10 rows\n",
            "\n"
          ]
        }
      ]
    },
    {
      "cell_type": "markdown",
      "source": [
        "### **Objective N8: Find the most used Intervention Models (in Study Design field) in cancer related clinical trails**"
      ],
      "metadata": {
        "id": "ia3q55xLp9ln"
      }
    },
    {
      "cell_type": "markdown",
      "source": [
        "In order to find ***The most used Intervention Models (in Study Design field) in cancer related clinical trails*** we selected the Study Design categories (exploding the list generated by the split function on the \";\" character in order to consider all the effective values of Study Design) filterintg NaN values and finding only the rows with 'Intervention' value. We also grouped the data by the new field Design Phases and ordered the data by the Number of Intevention in order to show the correct output."
      ],
      "metadata": {
        "id": "i3j7ugdUgWE-"
      }
    },
    {
      "cell_type": "code",
      "source": [
        "clinicalDS.select(explode(split('Study Design', ';')).alias('Design Phases'))\\\n",
        ".withColumn('Design Phases', trim(col('Design Phases')))\\\n",
        ".filter(col('Design Phases').startswith('Intervention'))\\\n",
        ".filter(col('Cancer Types') != 'NaN') \\\n",
        ".groupBy('Design Phases')\\\n",
        ".agg(count('Design Phases').alias('Number of Intervention'))\\\n",
        ".orderBy(desc('Number of Intervention'))\\\n",
        ".show(truncate=False)"
      ],
      "metadata": {
        "colab": {
          "base_uri": "https://localhost:8080/"
        },
        "id": "rBLpXsvgBhdE",
        "outputId": "424b8fe1-496b-4106-9797-adc983e9158f"
      },
      "execution_count": null,
      "outputs": [
        {
          "output_type": "stream",
          "name": "stdout",
          "text": [
            "+----------------------------------------------------------+----------------------+\n",
            "|Design Phases                                             |Number of Intervention|\n",
            "+----------------------------------------------------------+----------------------+\n",
            "|Intervention Model: Parallel Assignment                   |3901                  |\n",
            "|Intervention Model: Single Group Assignment               |1585                  |\n",
            "|Intervention Model: Sequential Assignment                 |195                   |\n",
            "|Intervention Model: Crossover Assignment                  |72                    |\n",
            "|Intervention Model: Factorial Assignment                  |69                    |\n",
            "|Intervention Model: Cohort Study                          |2                     |\n",
            "|Intervention Model: Review Of Electronic Case Report Forms|1                     |\n",
            "|Intervention Model: Parallel                              |1                     |\n",
            "|Intervention Model: N/A                                   |1                     |\n",
            "+----------------------------------------------------------+----------------------+\n",
            "\n"
          ]
        }
      ]
    },
    {
      "cell_type": "markdown",
      "source": [
        "### **Objective N9: Find the average number of participants per study title**\n",
        "\n",
        "In order to find The **Average number of participants per study title** we selected the **Title** category and then calculate the average of the **Number of Participants** on that field.\n"
      ],
      "metadata": {
        "id": "N1fnMIuwrqae"
      }
    },
    {
      "cell_type": "code",
      "source": [
        "clinicalDS.groupBy(\"Title\").avg(\"Number of Participants\").show()"
      ],
      "metadata": {
        "colab": {
          "base_uri": "https://localhost:8080/"
        },
        "id": "3PBxnPyzrw3O",
        "outputId": "e967241a-f054-407e-ef2b-1d6b238a214f"
      },
      "execution_count": 273,
      "outputs": [
        {
          "output_type": "stream",
          "name": "stdout",
          "text": [
            "+--------------------+---------------------------+\n",
            "|               Title|avg(Number of Participants)|\n",
            "+--------------------+---------------------------+\n",
            "|An International,...|                     1000.0|\n",
            "|IMPAHCT: A Phase ...|                      462.0|\n",
            "|An Open-Label, Do...|                       80.0|\n",
            "|Therapeutic Modul...|                       17.0|\n",
            "|A Phase 2, Random...|                      120.0|\n",
            "|A Randomized, Ope...|                      257.0|\n",
            "|Open-Label, Phase...|                       54.0|\n",
            "|A Phase 3, Open-l...|                      418.0|\n",
            "|A Multicenter, Op...|                     3500.0|\n",
            "|EMBER-4: A Random...|                     6000.0|\n",
            "|Biomarkers Study:...|                      104.0|\n",
            "|Prevention of Car...|                      260.0|\n",
            "|MotOr, cogniTIVe ...|                      165.0|\n",
            "|A Double-Blind, R...|                      111.0|\n",
            "|Ivabradine in mul...|                        NaN|\n",
            "|Interventional, R...|                      315.0|\n",
            "|Calcium Algorithm...|                      100.0|\n",
            "|PHASE 4, MULTICEN...|                        NaN|\n",
            "|Atrial Fibrillati...|                      255.0|\n",
            "|Efficacy Evaluati...|                      381.0|\n",
            "+--------------------+---------------------------+\n",
            "only showing top 20 rows\n",
            "\n"
          ]
        }
      ]
    },
    {
      "cell_type": "markdown",
      "source": [
        "### **Objective N10: Fin the countries with the highest average number of participants per study**\n",
        "\n",
        "In order to find The **Countries with the highest average number of participants per study** we selected the **Country of Sponsor/Collaborator, Trial ID and Number of Participants** Categories (exploding the Country of Sponsor/Collaborator list generated by the split function on the \";\" character in order to consider all the effective values) filterintg NaN values on **Number of Participants** field and calculating the average on it. Note: we used the *trim* function in order to remove the spaces between each word."
      ],
      "metadata": {
        "id": "z91_HJ5xsAa_"
      }
    },
    {
      "cell_type": "code",
      "source": [
        "clinicalDS.select(explode(split(\"Country of Sponsor/Collaborator\",\";\")).alias(\"Countries\"),\"Trial ID\", \"Number of Participants\") \\\n",
        ".withColumn(\"Countries\", trim(col(\"Countries\"))) \\\n",
        ".filter((col(\"Countries\").isNotNull()) & (col(\"Countries\") != \"\")) \\\n",
        ".distinct().groupBy(\"Trial ID\", \"Countries\") \\\n",
        ".avg(\"Number of Participants\") \\\n",
        ".filter(col(\"avg(Number of Participants)\") != \"NaN\") \\\n",
        ".orderBy(desc(\"avg(Number of Participants)\")).show(100)"
      ],
      "metadata": {
        "id": "w946mt4LsNwQ"
      },
      "execution_count": null,
      "outputs": []
    },
    {
      "cell_type": "markdown",
      "source": [
        "### **Objective N11: Find the 10 most popular cities of sponsor/collaborator per study type**\n",
        "\n",
        "In order to find The **10 most popular cities of sponsor/collaborator per study type** we selected the **City of Sponsor/Collaborator, Trial ID and Study Type** Categories (exploding the City of Sponsor/Collaborator list generated by the split function on the \";\" character in order to consider all the effective values) grouping by \"Study Type\" and **Collaborator_Cities** fields and counting the number of trials for each city."
      ],
      "metadata": {
        "id": "UTuNXbY7h0yu"
      }
    },
    {
      "cell_type": "code",
      "source": [
        "clinicalDS.select(explode(split(\"City of Sponsor/Collaborator\", \"; \")).alias(\"Collaborator_Cities\"), \"Study Type\", \"Trial ID\") \\\n",
        ".withColumn(\"Collaborator_Cities\", trim(col(\"Collaborator_Cities\"))) \\\n",
        ".filter((col(\"Collaborator_Cities\").isNotNull()) & (col(\"Collaborator_Cities\") != \"\")) \\\n",
        ".groupBy(\"Study Type\", \"Collaborator_Cities\") \\\n",
        ".agg(count(clinicalDS[\"Trial ID\"]).alias(\"Numero_Prove\")).orderBy(desc(\"Numero_Prove\")).show(10)\n"
      ],
      "metadata": {
        "id": "lsZdj0rll37f",
        "colab": {
          "base_uri": "https://localhost:8080/"
        },
        "outputId": "14b1cb50-570f-4f2c-99c0-43a99e9f9236"
      },
      "execution_count": null,
      "outputs": [
        {
          "output_type": "stream",
          "name": "stdout",
          "text": [
            "+--------------+-------------------+------------+\n",
            "|    Study Type|Collaborator_Cities|Numero_Prove|\n",
            "+--------------+-------------------+------------+\n",
            "|Interventional|             Madrid|       13154|\n",
            "|Interventional|          Barcelona|       12534|\n",
            "|Interventional|               Rome|       12407|\n",
            "|Interventional|              Milan|       12404|\n",
            "|Interventional|              Seoul|       10437|\n",
            "|Interventional|             London|        9495|\n",
            "|Interventional|              Paris|        6884|\n",
            "|Interventional|           New York|        6397|\n",
            "|Interventional|              Tokyo|        5620|\n",
            "| Observational|               Rome|        5411|\n",
            "+--------------+-------------------+------------+\n",
            "only showing top 10 rows\n",
            "\n"
          ]
        }
      ]
    },
    {
      "cell_type": "markdown",
      "source": [
        "### **Objective N12: Find the clinical trial with the highest Altmetric Attention Score that started after July 10, 2013**\n",
        "\n",
        "In order to find The **the clinical trial with the highest Altmetric Attention Score that started after July 10, 2013** we selected the **Trial ID and Altmetric Attention Score** Categories, ordering by \"Altmetric Attention Score\" field and choosing two conditions for the *select* clause, according to the query."
      ],
      "metadata": {
        "id": "g7cj3qPyi0l0"
      }
    },
    {
      "cell_type": "code",
      "source": [
        "clinicalDS.select(\"Trial ID\", \"Altmetric Attention Score\") \\\n",
        ".orderBy(desc(clinicalDS[\"Altmetric Attention Score\"])) \\\n",
        ".where((clinicalDS[\"Start Date\"] > \"2013-07-10\") & (clinicalDS[\"Altmetric Attention Score\"]!=\"NaN\"))\\\n",
        ".limit(1).show()"
      ],
      "metadata": {
        "id": "X0Ae9OoQtZd5",
        "colab": {
          "base_uri": "https://localhost:8080/"
        },
        "outputId": "677cc2a7-f22b-416c-a338-b58e511c3f3f"
      },
      "execution_count": 274,
      "outputs": [
        {
          "output_type": "stream",
          "name": "stdout",
          "text": [
            "+-----------+-------------------------+\n",
            "|   Trial ID|Altmetric Attention Score|\n",
            "+-----------+-------------------------+\n",
            "|NCT04575597|                   1703.0|\n",
            "+-----------+-------------------------+\n",
            "\n"
          ]
        }
      ]
    },
    {
      "cell_type": "markdown",
      "source": [
        "### **Objective N13 Find the 5 most relevant (based on number of participants) trials per Cancer Types**\n",
        "\n",
        "In order to find The **the 5 most relevant (based on number of participants) trials per Cancer Types** we selected the **Cancer Types, Trial ID and Number of Participants** Categories (exploding the Cancer Types list generated by the split function on the \";\" character in order to consider all the effective values), ordering by \"Number of Participants\" field and filtering on \"Cancer Types\" and \"Number of Participants\" field to show the output properly."
      ],
      "metadata": {
        "id": "Y_xZEP2blWAv"
      }
    },
    {
      "cell_type": "code",
      "source": [
        "clinicalDS.select(explode(split(\"Cancer Types\", \"; \")).alias(\"Tipi_Cancro\"), \"Trial ID\", \"Number of Participants\") \\\n",
        ".withColumn(\"Tipi_Cancro\", trim(col(\"Tipi_Cancro\"))) \\\n",
        ".filter((col(\"Tipi_Cancro\").isNotNull()) & (col(\"Tipi_Cancro\") != \"\") & (col(\"Tipi_Cancro\") != \"NaN\")) \\\n",
        ".filter(col(\"Number of Participants\")!=\"NaN\") \\\n",
        ".distinct().orderBy(desc(clinicalDS[\"Number of Participants\"])).limit(5).show()"
      ],
      "metadata": {
        "id": "1LSr8NtbvYCV",
        "colab": {
          "base_uri": "https://localhost:8080/"
        },
        "outputId": "7837a71b-7cb8-4501-ba73-c319d114d5d6"
      },
      "execution_count": 275,
      "outputs": [
        {
          "output_type": "stream",
          "name": "stdout",
          "text": [
            "+--------------------+-----------+----------------------+\n",
            "|         Tipi_Cancro|   Trial ID|Number of Participants|\n",
            "+--------------------+-----------+----------------------+\n",
            "|Not Site-Specific...|NCT05339841|               82800.0|\n",
            "|Not Site-Specific...|NCT02038491|               63692.0|\n",
            "|       Breast Cancer|NCT04590560|               60000.0|\n",
            "|     Cervical Cancer|NCT01837693|               60000.0|\n",
            "|Genital System, F...|NCT01837693|               60000.0|\n",
            "+--------------------+-----------+----------------------+\n",
            "\n"
          ]
        }
      ]
    },
    {
      "cell_type": "markdown",
      "source": [
        "### **Objective N14: Retrieve the start date, the completion year and studied conditions of the top 10 clinical trials that involve the \"AOUSSN_CAGLIARI\" AHC and with the highest Altmetric Attention Score**\n",
        "\n",
        "In order to find The **start date, the completion year and studied conditions of the top 10 clinical trials that involve the \"AOUSSN_CAGLIARI\" AHC and with the highest Altmetric Attention Score** we selected the **Trial ID, Start Date, Completion Year, Conditions, AHC and Altmetric Attention Score** Categories, ordering by \"Altmetric Attention Score\" field, filtering on the same field and filtering on the \"AHC\" field to show the output properly."
      ],
      "metadata": {
        "id": "QNGl0nEAmJ3w"
      }
    },
    {
      "cell_type": "code",
      "source": [
        "clinicalDS.select(\"Trial ID\",\"Start Date\", \"Completion Year\",\"Conditions\",\"AHC\", \"Altmetric Attention Score\") \\\n",
        ".where(clinicalDS[\"AHC\"]==\"AOUSSN_CAGLIARI\") \\\n",
        ".orderBy(desc(clinicalDS[\"Altmetric Attention Score\"])) \\\n",
        ".filter(col(\"Altmetric Attention Score\") != \"NaN\") \\\n",
        ".show(10)"
      ],
      "metadata": {
        "id": "Fw4S1iZc2RYY",
        "colab": {
          "base_uri": "https://localhost:8080/"
        },
        "outputId": "ade014f3-1c9e-47c6-f465-6e2dbf0bcbe2"
      },
      "execution_count": null,
      "outputs": [
        {
          "output_type": "stream",
          "name": "stdout",
          "text": [
            "+-----------+-------------------+---------------+--------------------+---------------+-------------------------+\n",
            "|   Trial ID|         Start Date|Completion Year|          Conditions|            AHC|Altmetric Attention Score|\n",
            "+-----------+-------------------+---------------+--------------------+---------------+-------------------------+\n",
            "|NCT04303780|2020-06-04 00:00:00|         2026.0|KRAS p, G12c Muta...|AOUSSN_CAGLIARI|                    788.0|\n",
            "|NCT03466411|2018-04-13 00:00:00|         2030.0|     Crohn's Disease|AOUSSN_CAGLIARI|                    693.0|\n",
            "|NCT04763408|2021-04-09 00:00:00|         2028.0|Carcinoma, Hepato...|AOUSSN_CAGLIARI|                    299.0|\n",
            "|NCT03764293|2019-06-10 00:00:00|         2023.0|Locally Advanced ...|AOUSSN_CAGLIARI|                    275.0|\n",
            "|NCT04929210|2021-08-30 00:00:00|         2026.0|Arthritis, Psoriatic|AOUSSN_CAGLIARI|                    131.0|\n",
            "|NCT03607422|2018-07-27 00:00:00|         2025.0|   Atopic Dermatitis|AOUSSN_CAGLIARI|                     38.0|\n",
            "|NCT05071664|2021-10-25 00:00:00|         2024.0|Arthritis, Psoriatic|AOUSSN_CAGLIARI|                     27.0|\n",
            "|NCT02308111|2014-12-26 00:00:00|         2021.0|Liver Cirrhosis, ...|AOUSSN_CAGLIARI|                     27.0|\n",
            "|NCT03161483|2017-08-31 00:00:00|         2021.0|Lupus Erythematos...|AOUSSN_CAGLIARI|                     11.0|\n",
            "|NCT05198934|2022-04-19 00:00:00|         2025.0|Colorectal Cancer...|AOUSSN_CAGLIARI|                     10.0|\n",
            "+-----------+-------------------+---------------+--------------------+---------------+-------------------------+\n",
            "only showing top 10 rows\n",
            "\n"
          ]
        }
      ]
    },
    {
      "cell_type": "markdown",
      "source": [
        "### **Objective N15: Find the 10 clinical trials with the youngest group of study participants**\n",
        "\n",
        "In order to find The **the 10 clinical trials with the youngest group of study participants** we added two columns: one for the minimum age for each trial and the second for the maximum age and we specified a regular expression to retrieve the numeric values properly. After that, we added one more column to show the differences between each maximum and minimum and finally we selected **Trial ID and diff_age** for the output, ordering on the \"diff_age\" field."
      ],
      "metadata": {
        "id": "k5baEKkimzk3"
      }
    },
    {
      "cell_type": "code",
      "source": [
        "from pyspark.sql.functions import regexp_extract\n",
        "\n",
        "trialsDS = clinicalDS.withColumn(\n",
        "    \"min_age\",\n",
        "    regexp_extract(col(\"Age\"), r\"^(\\d+)\", 1).cast(\"int\")\n",
        ")\n",
        "trialsDS = trialsDS.withColumn(\n",
        "    \"max_age\",\n",
        "    regexp_extract(col(\"Age\"), r\"(\\d+)\\s*Years\\s*-\\s*(\\d+)\", 2).cast(\"int\")\n",
        ")\n",
        "trialsDS = trialsDS.withColumn(\"diff_age\", trialsDS[\"max_age\"]-trialsDS[\"min_age\"])\n",
        "trialsDS.select(\"Trial ID\",\"diff_age\") \\\n",
        ".orderBy(desc(\"diff_age\")) \\\n",
        ".show()"
      ],
      "metadata": {
        "id": "ZgDH_41u9Vnb",
        "colab": {
          "base_uri": "https://localhost:8080/"
        },
        "outputId": "cbed1d26-efb3-4283-d35b-e76302f892e2"
      },
      "execution_count": 276,
      "outputs": [
        {
          "output_type": "stream",
          "name": "stdout",
          "text": [
            "+-----------+--------+\n",
            "|   Trial ID|diff_age|\n",
            "+-----------+--------+\n",
            "|NCT02239120|     132|\n",
            "|NCT02239120|     132|\n",
            "|NCT02239120|     132|\n",
            "|NCT02239120|     132|\n",
            "|NCT01874353|     112|\n",
            "|NCT04987203|     112|\n",
            "|NCT02476968|     112|\n",
            "|NCT01874353|     112|\n",
            "|NCT01844986|     112|\n",
            "|NCT01874353|     112|\n",
            "|NCT01844986|     112|\n",
            "|NCT01874353|     112|\n",
            "|NCT01844986|     112|\n",
            "|NCT04987203|     112|\n",
            "|NCT06129864|     112|\n",
            "|NCT00053053|     103|\n",
            "|NCT01344018|     102|\n",
            "|NCT00769327|     102|\n",
            "|NCT00553410|     102|\n",
            "|NCT03948178|     102|\n",
            "+-----------+--------+\n",
            "only showing top 20 rows\n",
            "\n"
          ]
        }
      ]
    },
    {
      "cell_type": "markdown",
      "source": [
        "## **Objective N16: Find the most popular (by number of trials) Field of Research per country with at least 500 participants**\n",
        "\n",
        "In order to find The **most popular (by number of trials) Field of Research per country with at least 500 participants** we added one column in order to explode the **Fields of Research** field properly and one column for the **Country of Sponsor/Collaborator** (the process for this column is exactly the same we did for the first one). After that, we added one **where** clause on the \"Number of Participants\", we filtered on the same field to display the output properly. Finally grouped by the two newly columns and we counted (and ordered) on the number of trials."
      ],
      "metadata": {
        "id": "s6Sjl-_WnwcY"
      }
    },
    {
      "cell_type": "code",
      "source": [
        "trialsDS.withColumn(\"Campi_Ricerca\", explode(split(\"Fields of Research (ANZSRC 2020)\",\"; \"))) \\\n",
        ".withColumn(\"Paesi\", explode(split(\"Country of Sponsor/Collaborator\",\"; \"))) \\\n",
        ".where(trialsDS[\"Number of Participants\"]>=500) \\\n",
        ".filter(col(\"Number of Participants\")!=\"NaN\") \\\n",
        ".groupBy(\"Paesi\", \"Campi_Ricerca\") \\\n",
        ".agg(count(\"Trial ID\").alias(\"Numero_Prove\")) \\\n",
        ".orderBy(desc(\"Numero_Prove\")) \\\n",
        ".show(truncate=False)"
      ],
      "metadata": {
        "id": "uez7BlD0LrLV",
        "colab": {
          "base_uri": "https://localhost:8080/"
        },
        "outputId": "2b663133-00a1-48c7-aa7e-618d51af0679"
      },
      "execution_count": 277,
      "outputs": [
        {
          "output_type": "stream",
          "name": "stdout",
          "text": [
            "+--------------+-----------------------------------+------------+\n",
            "|Paesi         |Campi_Ricerca                      |Numero_Prove|\n",
            "+--------------+-----------------------------------+------------+\n",
            "|United States |32 Biomedical and Clinical Sciences|142562      |\n",
            "|Italy         |32 Biomedical and Clinical Sciences|97823       |\n",
            "|United States |3202 Clinical Sciences             |67772       |\n",
            "|United States |3211 Oncology and Carcinogenesis   |66089       |\n",
            "|Germany       |32 Biomedical and Clinical Sciences|44869       |\n",
            "|Italy         |3202 Clinical Sciences             |44624       |\n",
            "|Italy         |3211 Oncology and Carcinogenesis   |37674       |\n",
            "|Spain         |32 Biomedical and Clinical Sciences|35135       |\n",
            "|France        |32 Biomedical and Clinical Sciences|30059       |\n",
            "|Japan         |32 Biomedical and Clinical Sciences|25244       |\n",
            "|United Kingdom|32 Biomedical and Clinical Sciences|22872       |\n",
            "|China         |32 Biomedical and Clinical Sciences|19970       |\n",
            "|United States |52 Psychology                      |19693       |\n",
            "|United States |5202 Biological Psychology         |19114       |\n",
            "|Germany       |3211 Oncology and Carcinogenesis   |17560       |\n",
            "|United States |3204 Immunology                    |17247       |\n",
            "|Spain         |3211 Oncology and Carcinogenesis   |16905       |\n",
            "|Canada        |32 Biomedical and Clinical Sciences|16504       |\n",
            "|Germany       |3202 Clinical Sciences             |16434       |\n",
            "|Poland        |32 Biomedical and Clinical Sciences|15757       |\n",
            "+--------------+-----------------------------------+------------+\n",
            "only showing top 20 rows\n",
            "\n"
          ]
        }
      ]
    }
  ]
}